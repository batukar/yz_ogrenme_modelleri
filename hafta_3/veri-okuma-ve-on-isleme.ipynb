{
 "cells": [
  {
   "cell_type": "markdown",
   "metadata": {},
   "source": [
    "1. Veri seti okuma"
   ]
  },
  {
   "cell_type": "code",
   "execution_count": null,
   "metadata": {},
   "outputs": [
    {
     "name": "stdout",
     "output_type": "stream",
     "text": [
      "   Age  Gender  Country  Ethnicity Family_History Radiation_Exposure  \\\n",
      "0   66    Male   Russia  Caucasian             No                Yes   \n",
      "1   29    Male  Germany   Hispanic             No                Yes   \n",
      "2   86    Male  Nigeria  Caucasian             No                 No   \n",
      "3   75  Female    India      Asian             No                 No   \n",
      "4   35  Female  Germany    African            Yes                Yes   \n",
      "\n",
      "  Iodine_Deficiency Smoking Obesity Diabetes  TSH_Level  T3_Level  T4_Level  \\\n",
      "0                No      No      No       No       9.37      1.67      6.16   \n",
      "1                No      No      No       No       1.83      1.73     10.54   \n",
      "2                No      No      No       No       6.26      2.59     10.57   \n",
      "3                No      No      No       No       4.10      2.62     11.04   \n",
      "4                No      No      No       No       9.10      2.11     10.71   \n",
      "\n",
      "   Nodule_Size Thyroid_Cancer_Risk Diagnosis  \n",
      "0         1.08                 Low    Benign  \n",
      "1         4.05                 Low    Benign  \n",
      "2         4.61                 Low    Benign  \n",
      "3         2.46              Medium    Benign  \n",
      "4         2.11                High    Benign  \n"
     ]
    }
   ],
   "source": [
    "import pandas as pd\n",
    "\n",
    "file_path = \"datasets/thyroid_cancer_risk_data.csv\"\n",
    "df = pd.read_csv(file_path)\n",
    "\n",
    "# Gereksiz sütunları çıkartıldı\n",
    "df.drop(columns=[\"Patient_ID\"], inplace=True)\n",
    "\n",
    "#print(df.info())\n",
    "\n",
    "print(df.head())\n",
    "\n",
    "# Eksik verileri kontrolü\n",
    "#print(df.isnull().sum())"
   ]
  },
  {
   "cell_type": "markdown",
   "metadata": {},
   "source": [
    "2. Kategorik değişkenleri sayısala çevirme"
   ]
  },
  {
   "cell_type": "code",
   "execution_count": null,
   "metadata": {},
   "outputs": [
    {
     "ename": "NameError",
     "evalue": "name 'df' is not defined",
     "output_type": "error",
     "traceback": [
      "\u001b[0;31m---------------------------------------------------------------------------\u001b[0m",
      "\u001b[0;31mNameError\u001b[0m                                 Traceback (most recent call last)",
      "Cell \u001b[0;32mIn[1], line 6\u001b[0m\n\u001b[1;32m      4\u001b[0m \u001b[38;5;66;03m# Evet-Hayır olan değerleri 1 ve 0'a çevirme\u001b[39;00m\n\u001b[1;32m      5\u001b[0m \u001b[38;5;28;01mfor\u001b[39;00m col \u001b[38;5;129;01min\u001b[39;00m binary_columns:\n\u001b[0;32m----> 6\u001b[0m     df[col] \u001b[38;5;241m=\u001b[39m df[col]\u001b[38;5;241m.\u001b[39mmap({\u001b[38;5;124m\"\u001b[39m\u001b[38;5;124mYes\u001b[39m\u001b[38;5;124m\"\u001b[39m: \u001b[38;5;241m1\u001b[39m, \u001b[38;5;124m\"\u001b[39m\u001b[38;5;124mNo\u001b[39m\u001b[38;5;124m\"\u001b[39m: \u001b[38;5;241m0\u001b[39m})\n",
      "\u001b[0;31mNameError\u001b[0m: name 'df' is not defined"
     ]
    }
   ],
   "source": [
    "# Binary (Evet / Hayır) olan sütunları belirleme\n",
    "binary_columns = [\"Family_History\", \"Radiation_Exposure\", \"Iodine_Deficiency\", \"Smoking\", \"Obesity\", \"Diabetes\"]\n",
    "\n",
    "# Evet-Hayır olan değerleri 1 ve 0'a çevirme\n",
    "for col in binary_columns:\n",
    "    df[col] = df[col].map({\"Yes\": 1, \"No\": 0})"
   ]
  },
  {
   "cell_type": "code",
   "execution_count": null,
   "metadata": {},
   "outputs": [],
   "source": [
    "from sklearn.preprocessing import LabelEncoder\n",
    "\n",
    "# Label Encoding uygulanacak sütunlar\n",
    "categorical_columns = [\"Gender\", \"Country\", \"Ethnicity\"]\n",
    "\n",
    "# Her sütun için ayrı bir LabelEncoder nesnesi oluştur\n",
    "encoders = {}  # Daha sonra dönüşümü geri almak için kullanabiliriz\n",
    "\n",
    "for col in categorical_columns:\n",
    "    encoder = LabelEncoder()\n",
    "    df[col] = encoder.fit_transform(df[col])\n",
    "    encoders[col] = encoder  # Encoder'ı kaydediyoruz"
   ]
  },
  {
   "cell_type": "code",
   "execution_count": null,
   "metadata": {},
   "outputs": [],
   "source": [
    "# Risk seviyelerini sayısal hale getirme\n",
    "risk_mapping = {\"Low\": 0, \"Medium\": 1, \"High\": 2, \"Benign\": 0, \"Malignant\": 1}\n",
    "\n",
    "df[\"Thyroid_Cancer_Risk\"] = df[\"Thyroid_Cancer_Risk\"].map(risk_mapping)"
   ]
  },
  {
   "cell_type": "code",
   "execution_count": null,
   "metadata": {},
   "outputs": [
    {
     "name": "stdout",
     "output_type": "stream",
     "text": [
      "Diagnosis Değerleri: ['Benign' 'Malignant']\n"
     ]
    }
   ],
   "source": [
    "#df.drop(columns=[\"Diagnosis\"], inplace=True, errors=\"ignore\")\n",
    "\n",
    "# Diagnosis sütununun mevcut değerlerini kontrol edelim\n",
    "print(\"Diagnosis Değerleri:\", df[\"Diagnosis\"].unique())\n",
    "\n",
    "diagnosis_mapping = {\"Benign\": 0, \"Malignant\": 1}\n",
    "df[\"Diagnosis\"] = df[\"Diagnosis\"].map(diagnosis_mapping)"
   ]
  },
  {
   "cell_type": "code",
   "execution_count": null,
   "metadata": {},
   "outputs": [],
   "source": [
    "from sklearn.preprocessing import MinMaxScaler\n",
    "\n",
    "# Ölçeklenecek tüm sayısal değişkenleri belirleyelim\n",
    "numeric_features = [\"Age\", \"TSH_Level\", \"T3_Level\", \"T4_Level\", \"Nodule_Size\"]\n",
    "\n",
    "# MinMaxScaler ile ölçekleme\n",
    "scaler = MinMaxScaler()\n",
    "df[numeric_features] = scaler.fit_transform(df[numeric_features])"
   ]
  },
  {
   "cell_type": "code",
   "execution_count": null,
   "metadata": {},
   "outputs": [
    {
     "name": "stdout",
     "output_type": "stream",
     "text": [
      "İşlenmiş veri seti başarıyla kaydedildi: datasets/processed_thyroid_cancer_data.csv\n"
     ]
    }
   ],
   "source": [
    "processed_file_path = \"datasets/processed_thyroid_cancer_data.csv\"\n",
    "df.to_csv(processed_file_path, index=False)\n",
    "\n",
    "print(f\"İşlenmiş veri seti başarıyla kaydedildi: {processed_file_path}\")"
   ]
  }
 ],
 "metadata": {
  "kernelspec": {
   "display_name": "base",
   "language": "python",
   "name": "python3"
  },
  "language_info": {
   "codemirror_mode": {
    "name": "ipython",
    "version": 3
   },
   "file_extension": ".py",
   "mimetype": "text/x-python",
   "name": "python",
   "nbconvert_exporter": "python",
   "pygments_lexer": "ipython3",
   "version": "3.11.11"
  }
 },
 "nbformat": 4,
 "nbformat_minor": 2
}
