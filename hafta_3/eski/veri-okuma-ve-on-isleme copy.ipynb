{
 "cells": [
  {
   "cell_type": "markdown",
   "metadata": {},
   "source": [
    "1. Veri okuma\n",
    "\n",
    "Veri setinden gereksiz sütun ('Patient_ID') analiz için gereksiz olduğu için çıkarıldı."
   ]
  },
  {
   "cell_type": "code",
   "execution_count": 7,
   "metadata": {},
   "outputs": [
    {
     "data": {
      "text/html": [
       "<div>\n",
       "<style scoped>\n",
       "    .dataframe tbody tr th:only-of-type {\n",
       "        vertical-align: middle;\n",
       "    }\n",
       "\n",
       "    .dataframe tbody tr th {\n",
       "        vertical-align: top;\n",
       "    }\n",
       "\n",
       "    .dataframe thead th {\n",
       "        text-align: right;\n",
       "    }\n",
       "</style>\n",
       "<table border=\"1\" class=\"dataframe\">\n",
       "  <thead>\n",
       "    <tr style=\"text-align: right;\">\n",
       "      <th></th>\n",
       "      <th>Age</th>\n",
       "      <th>Gender</th>\n",
       "      <th>Country</th>\n",
       "      <th>Ethnicity</th>\n",
       "      <th>Family_History</th>\n",
       "      <th>Radiation_Exposure</th>\n",
       "      <th>Iodine_Deficiency</th>\n",
       "      <th>Smoking</th>\n",
       "      <th>Obesity</th>\n",
       "      <th>Diabetes</th>\n",
       "      <th>TSH_Level</th>\n",
       "      <th>T3_Level</th>\n",
       "      <th>T4_Level</th>\n",
       "      <th>Nodule_Size</th>\n",
       "      <th>Thyroid_Cancer_Risk</th>\n",
       "      <th>Diagnosis</th>\n",
       "    </tr>\n",
       "  </thead>\n",
       "  <tbody>\n",
       "    <tr>\n",
       "      <th>0</th>\n",
       "      <td>66</td>\n",
       "      <td>Male</td>\n",
       "      <td>Russia</td>\n",
       "      <td>Caucasian</td>\n",
       "      <td>No</td>\n",
       "      <td>Yes</td>\n",
       "      <td>No</td>\n",
       "      <td>No</td>\n",
       "      <td>No</td>\n",
       "      <td>No</td>\n",
       "      <td>9.37</td>\n",
       "      <td>1.67</td>\n",
       "      <td>6.16</td>\n",
       "      <td>1.08</td>\n",
       "      <td>Low</td>\n",
       "      <td>Benign</td>\n",
       "    </tr>\n",
       "    <tr>\n",
       "      <th>1</th>\n",
       "      <td>29</td>\n",
       "      <td>Male</td>\n",
       "      <td>Germany</td>\n",
       "      <td>Hispanic</td>\n",
       "      <td>No</td>\n",
       "      <td>Yes</td>\n",
       "      <td>No</td>\n",
       "      <td>No</td>\n",
       "      <td>No</td>\n",
       "      <td>No</td>\n",
       "      <td>1.83</td>\n",
       "      <td>1.73</td>\n",
       "      <td>10.54</td>\n",
       "      <td>4.05</td>\n",
       "      <td>Low</td>\n",
       "      <td>Benign</td>\n",
       "    </tr>\n",
       "    <tr>\n",
       "      <th>2</th>\n",
       "      <td>86</td>\n",
       "      <td>Male</td>\n",
       "      <td>Nigeria</td>\n",
       "      <td>Caucasian</td>\n",
       "      <td>No</td>\n",
       "      <td>No</td>\n",
       "      <td>No</td>\n",
       "      <td>No</td>\n",
       "      <td>No</td>\n",
       "      <td>No</td>\n",
       "      <td>6.26</td>\n",
       "      <td>2.59</td>\n",
       "      <td>10.57</td>\n",
       "      <td>4.61</td>\n",
       "      <td>Low</td>\n",
       "      <td>Benign</td>\n",
       "    </tr>\n",
       "    <tr>\n",
       "      <th>3</th>\n",
       "      <td>75</td>\n",
       "      <td>Female</td>\n",
       "      <td>India</td>\n",
       "      <td>Asian</td>\n",
       "      <td>No</td>\n",
       "      <td>No</td>\n",
       "      <td>No</td>\n",
       "      <td>No</td>\n",
       "      <td>No</td>\n",
       "      <td>No</td>\n",
       "      <td>4.10</td>\n",
       "      <td>2.62</td>\n",
       "      <td>11.04</td>\n",
       "      <td>2.46</td>\n",
       "      <td>Medium</td>\n",
       "      <td>Benign</td>\n",
       "    </tr>\n",
       "    <tr>\n",
       "      <th>4</th>\n",
       "      <td>35</td>\n",
       "      <td>Female</td>\n",
       "      <td>Germany</td>\n",
       "      <td>African</td>\n",
       "      <td>Yes</td>\n",
       "      <td>Yes</td>\n",
       "      <td>No</td>\n",
       "      <td>No</td>\n",
       "      <td>No</td>\n",
       "      <td>No</td>\n",
       "      <td>9.10</td>\n",
       "      <td>2.11</td>\n",
       "      <td>10.71</td>\n",
       "      <td>2.11</td>\n",
       "      <td>High</td>\n",
       "      <td>Benign</td>\n",
       "    </tr>\n",
       "  </tbody>\n",
       "</table>\n",
       "</div>"
      ],
      "text/plain": [
       "   Age  Gender  Country  Ethnicity Family_History Radiation_Exposure  \\\n",
       "0   66    Male   Russia  Caucasian             No                Yes   \n",
       "1   29    Male  Germany   Hispanic             No                Yes   \n",
       "2   86    Male  Nigeria  Caucasian             No                 No   \n",
       "3   75  Female    India      Asian             No                 No   \n",
       "4   35  Female  Germany    African            Yes                Yes   \n",
       "\n",
       "  Iodine_Deficiency Smoking Obesity Diabetes  TSH_Level  T3_Level  T4_Level  \\\n",
       "0                No      No      No       No       9.37      1.67      6.16   \n",
       "1                No      No      No       No       1.83      1.73     10.54   \n",
       "2                No      No      No       No       6.26      2.59     10.57   \n",
       "3                No      No      No       No       4.10      2.62     11.04   \n",
       "4                No      No      No       No       9.10      2.11     10.71   \n",
       "\n",
       "   Nodule_Size Thyroid_Cancer_Risk Diagnosis  \n",
       "0         1.08                 Low    Benign  \n",
       "1         4.05                 Low    Benign  \n",
       "2         4.61                 Low    Benign  \n",
       "3         2.46              Medium    Benign  \n",
       "4         2.11                High    Benign  "
      ]
     },
     "execution_count": 7,
     "metadata": {},
     "output_type": "execute_result"
    }
   ],
   "source": [
    "import pandas as pd\n",
    "\n",
    "file_path = \"datasets/thyroid_cancer_risk_data.csv\"\n",
    "df = pd.read_csv(file_path)\n",
    "\n",
    "df.drop(columns=[\"Patient_ID\"], inplace=True)  # Gereksiz sütunları kaldırma\n",
    "\n",
    "df.head() "
   ]
  },
  {
   "cell_type": "markdown",
   "metadata": {},
   "source": [
    "2. Hedef Değişkeni (Thyroid_Cancer_Risk) Sayısala Çevirme"
   ]
  },
  {
   "cell_type": "code",
   "execution_count": 8,
   "metadata": {},
   "outputs": [
    {
     "name": "stdout",
     "output_type": "stream",
     "text": [
      "[0 1 2]\n"
     ]
    }
   ],
   "source": [
    "# Hedef değişkeni dönüştürme\n",
    "risk_mapping = {\"Low\": 0, \"Medium\": 1, \"High\": 2}\n",
    "df[\"Thyroid_Cancer_Risk\"] = df[\"Thyroid_Cancer_Risk\"].map(risk_mapping)\n",
    "\n",
    "# Dönüşümü kontrol edelim\n",
    "print(df[\"Thyroid_Cancer_Risk\"].unique())"
   ]
  },
  {
   "cell_type": "markdown",
   "metadata": {},
   "source": [
    "2.1. Kategorik değişkenleri sayısala dönüştürme"
   ]
  },
  {
   "cell_type": "code",
   "execution_count": 9,
   "metadata": {},
   "outputs": [
    {
     "name": "stderr",
     "output_type": "stream",
     "text": [
      "/var/folders/dm/hckhrzb5207cp2xy2c6ts38c0000gn/T/ipykernel_32784/3150784243.py:5: FutureWarning: DataFrame.applymap has been deprecated. Use DataFrame.map instead.\n",
      "  df[yes_no_columns] = df[yes_no_columns].applymap(lambda x: 1 if x == \"Yes\" else 0)\n"
     ]
    },
    {
     "data": {
      "text/html": [
       "<div>\n",
       "<style scoped>\n",
       "    .dataframe tbody tr th:only-of-type {\n",
       "        vertical-align: middle;\n",
       "    }\n",
       "\n",
       "    .dataframe tbody tr th {\n",
       "        vertical-align: top;\n",
       "    }\n",
       "\n",
       "    .dataframe thead th {\n",
       "        text-align: right;\n",
       "    }\n",
       "</style>\n",
       "<table border=\"1\" class=\"dataframe\">\n",
       "  <thead>\n",
       "    <tr style=\"text-align: right;\">\n",
       "      <th></th>\n",
       "      <th>Family_History</th>\n",
       "      <th>Radiation_Exposure</th>\n",
       "      <th>Iodine_Deficiency</th>\n",
       "      <th>Smoking</th>\n",
       "      <th>Obesity</th>\n",
       "      <th>Diabetes</th>\n",
       "    </tr>\n",
       "  </thead>\n",
       "  <tbody>\n",
       "    <tr>\n",
       "      <th>0</th>\n",
       "      <td>0</td>\n",
       "      <td>1</td>\n",
       "      <td>0</td>\n",
       "      <td>0</td>\n",
       "      <td>0</td>\n",
       "      <td>0</td>\n",
       "    </tr>\n",
       "    <tr>\n",
       "      <th>1</th>\n",
       "      <td>0</td>\n",
       "      <td>1</td>\n",
       "      <td>0</td>\n",
       "      <td>0</td>\n",
       "      <td>0</td>\n",
       "      <td>0</td>\n",
       "    </tr>\n",
       "    <tr>\n",
       "      <th>2</th>\n",
       "      <td>0</td>\n",
       "      <td>0</td>\n",
       "      <td>0</td>\n",
       "      <td>0</td>\n",
       "      <td>0</td>\n",
       "      <td>0</td>\n",
       "    </tr>\n",
       "    <tr>\n",
       "      <th>3</th>\n",
       "      <td>0</td>\n",
       "      <td>0</td>\n",
       "      <td>0</td>\n",
       "      <td>0</td>\n",
       "      <td>0</td>\n",
       "      <td>0</td>\n",
       "    </tr>\n",
       "    <tr>\n",
       "      <th>4</th>\n",
       "      <td>1</td>\n",
       "      <td>1</td>\n",
       "      <td>0</td>\n",
       "      <td>0</td>\n",
       "      <td>0</td>\n",
       "      <td>0</td>\n",
       "    </tr>\n",
       "  </tbody>\n",
       "</table>\n",
       "</div>"
      ],
      "text/plain": [
       "   Family_History  Radiation_Exposure  Iodine_Deficiency  Smoking  Obesity  \\\n",
       "0               0                   1                  0        0        0   \n",
       "1               0                   1                  0        0        0   \n",
       "2               0                   0                  0        0        0   \n",
       "3               0                   0                  0        0        0   \n",
       "4               1                   1                  0        0        0   \n",
       "\n",
       "   Diabetes  \n",
       "0         0  \n",
       "1         0  \n",
       "2         0  \n",
       "3         0  \n",
       "4         0  "
      ]
     },
     "execution_count": 9,
     "metadata": {},
     "output_type": "execute_result"
    }
   ],
   "source": [
    "# Yes/No sütunlarını sayısala çevirelim\n",
    "yes_no_columns = [\"Family_History\", \"Radiation_Exposure\", \"Iodine_Deficiency\", \"Smoking\", \"Obesity\", \"Diabetes\"]\n",
    "\n",
    "# Yes → 1, No → 0 olarak kodlayalım\n",
    "df[yes_no_columns] = df[yes_no_columns].applymap(lambda x: 1 if x == \"Yes\" else 0)\n",
    "\n",
    "# Dönüşümü kontrol edelim\n",
    "df[yes_no_columns].head()"
   ]
  },
  {
   "cell_type": "markdown",
   "metadata": {},
   "source": [
    "2.2. Çoklu Kategorik değişkenleri sayısala dönüştürme"
   ]
  },
  {
   "cell_type": "code",
   "execution_count": 10,
   "metadata": {},
   "outputs": [
    {
     "data": {
      "text/html": [
       "<div>\n",
       "<style scoped>\n",
       "    .dataframe tbody tr th:only-of-type {\n",
       "        vertical-align: middle;\n",
       "    }\n",
       "\n",
       "    .dataframe tbody tr th {\n",
       "        vertical-align: top;\n",
       "    }\n",
       "\n",
       "    .dataframe thead th {\n",
       "        text-align: right;\n",
       "    }\n",
       "</style>\n",
       "<table border=\"1\" class=\"dataframe\">\n",
       "  <thead>\n",
       "    <tr style=\"text-align: right;\">\n",
       "      <th></th>\n",
       "      <th>Gender</th>\n",
       "      <th>Country</th>\n",
       "      <th>Ethnicity</th>\n",
       "    </tr>\n",
       "  </thead>\n",
       "  <tbody>\n",
       "    <tr>\n",
       "      <th>0</th>\n",
       "      <td>1</td>\n",
       "      <td>6</td>\n",
       "      <td>2</td>\n",
       "    </tr>\n",
       "    <tr>\n",
       "      <th>1</th>\n",
       "      <td>1</td>\n",
       "      <td>2</td>\n",
       "      <td>3</td>\n",
       "    </tr>\n",
       "    <tr>\n",
       "      <th>2</th>\n",
       "      <td>1</td>\n",
       "      <td>5</td>\n",
       "      <td>2</td>\n",
       "    </tr>\n",
       "    <tr>\n",
       "      <th>3</th>\n",
       "      <td>0</td>\n",
       "      <td>3</td>\n",
       "      <td>1</td>\n",
       "    </tr>\n",
       "    <tr>\n",
       "      <th>4</th>\n",
       "      <td>0</td>\n",
       "      <td>2</td>\n",
       "      <td>0</td>\n",
       "    </tr>\n",
       "  </tbody>\n",
       "</table>\n",
       "</div>"
      ],
      "text/plain": [
       "   Gender  Country  Ethnicity\n",
       "0       1        6          2\n",
       "1       1        2          3\n",
       "2       1        5          2\n",
       "3       0        3          1\n",
       "4       0        2          0"
      ]
     },
     "execution_count": 10,
     "metadata": {},
     "output_type": "execute_result"
    }
   ],
   "source": [
    "from sklearn.preprocessing import LabelEncoder\n",
    "\n",
    "# Label Encoding uygulanacak sütunlar\n",
    "categorical_columns = [\"Gender\", \"Country\", \"Ethnicity\"]\n",
    "\n",
    "# LabelEncoder kullanarak sayısala çevirelim\n",
    "encoder = LabelEncoder()\n",
    "for col in categorical_columns:\n",
    "    df[col] = encoder.fit_transform(df[col])\n",
    "\n",
    "# Dönüşümü kontrol edelim\n",
    "df[categorical_columns].head()"
   ]
  },
  {
   "cell_type": "markdown",
   "metadata": {},
   "source": [
    "3. Eksik veri kontrolü"
   ]
  },
  {
   "cell_type": "code",
   "execution_count": 11,
   "metadata": {},
   "outputs": [
    {
     "name": "stdout",
     "output_type": "stream",
     "text": [
      "Series([], dtype: int64)\n"
     ]
    }
   ],
   "source": [
    "# Eksik veri kontrolü\n",
    "missing_values = df.isnull().sum()\n",
    "print(missing_values[missing_values > 0])"
   ]
  },
  {
   "cell_type": "markdown",
   "metadata": {},
   "source": [
    "3.1. Eksik verileri ortalama ile doldurma"
   ]
  },
  {
   "cell_type": "code",
   "execution_count": 12,
   "metadata": {},
   "outputs": [],
   "source": [
    "# Mode değerini kontrol et ve ona göre doldur\n",
    "if not df[\"Diagnosis\"].mode().empty:\n",
    "    df[\"Diagnosis\"] = df[\"Diagnosis\"].fillna(df[\"Diagnosis\"].mode()[0])\n",
    "else:\n",
    "    df[\"Diagnosis\"] = df[\"Diagnosis\"].fillna(\"Benign\")  # Varsayılan değer olarak 'Benign' atanabilir."
   ]
  },
  {
   "cell_type": "code",
   "execution_count": 13,
   "metadata": {},
   "outputs": [],
   "source": [
    "df.drop(columns=[\"Diagnosis\"], inplace=True)"
   ]
  },
  {
   "cell_type": "markdown",
   "metadata": {},
   "source": [
    "3. Yeni verisetini oluşturma ve kaydetme\n",
    "\n",
    "Ön işlenmiş veriyi tekrar yeni bir veri setine çevrildi ve analiz - modelleme için kaydedildi.\n",
    "Ön işlenmiş veri kümesi yeni bir CSV dosyası olarak kaydedildi."
   ]
  },
  {
   "cell_type": "code",
   "execution_count": 14,
   "metadata": {},
   "outputs": [
    {
     "name": "stdout",
     "output_type": "stream",
     "text": [
      "Veri seti başarıyla kaydedildi: datasets/processed_thyroid_cancer_data.csv\n"
     ]
    }
   ],
   "source": [
    "processed_file_path = \"datasets/processed_thyroid_cancer_data.csv\"\n",
    "df.to_csv(processed_file_path, index=False)\n",
    "\n",
    "print(f\"Veri seti başarıyla kaydedildi: {processed_file_path}\")"
   ]
  },
  {
   "cell_type": "markdown",
   "metadata": {},
   "source": [
    "4. Veri setini küçük parçaya ayırma (%10)"
   ]
  },
  {
   "cell_type": "code",
   "execution_count": 15,
   "metadata": {},
   "outputs": [
    {
     "name": "stdout",
     "output_type": "stream",
     "text": [
      "Küçültülmüş veri seti kaydedildi: datasets/small_processed_thyroid_cancer_data.csv\n"
     ]
    }
   ],
   "source": [
    "import pandas as pd\n",
    "\n",
    "# Ön işleme yapılmış veri setini yükleyelim\n",
    "file_path = \"datasets/new_processed_thyroid_cancer_data.csv\"  # Orijinal dosya adı\n",
    "df = pd.read_csv(file_path)\n",
    "\n",
    "# Veri setinin %10'unu seçerek daha küçük bir veri seti oluşturalım\n",
    "df_sampled = df.sample(frac=0.1, random_state=42)\n",
    "\n",
    "# Yeni dosya adı belirleyelim\n",
    "small_dataset_path = \"datasets/small_processed_thyroid_cancer_data.csv\"\n",
    "\n",
    "# Küçültülmüş veri setini CSV formatında kaydedelim\n",
    "df_sampled.to_csv(small_dataset_path, index=False)\n",
    "\n",
    "print(f\"Küçültülmüş veri seti kaydedildi: {small_dataset_path}\")"
   ]
  },
  {
   "cell_type": "markdown",
   "metadata": {},
   "source": []
  },
  {
   "cell_type": "markdown",
   "metadata": {},
   "source": []
  }
 ],
 "metadata": {
  "kernelspec": {
   "display_name": "base",
   "language": "python",
   "name": "python3"
  },
  "language_info": {
   "codemirror_mode": {
    "name": "ipython",
    "version": 3
   },
   "file_extension": ".py",
   "mimetype": "text/x-python",
   "name": "python",
   "nbconvert_exporter": "python",
   "pygments_lexer": "ipython3",
   "version": "3.11.11"
  }
 },
 "nbformat": 4,
 "nbformat_minor": 2
}
