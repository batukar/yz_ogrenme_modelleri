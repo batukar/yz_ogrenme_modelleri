{
 "cells": [
  {
   "cell_type": "markdown",
   "metadata": {},
   "source": [
    "1. Veri okuma\n",
    "\n",
    "Veri setinden gereksiz sütun ('Patient_ID') analiz için gereksiz olduğu için çıkarıldı."
   ]
  },
  {
   "cell_type": "code",
   "execution_count": 81,
   "metadata": {},
   "outputs": [
    {
     "name": "stdout",
     "output_type": "stream",
     "text": [
      "<class 'pandas.core.frame.DataFrame'>\n",
      "RangeIndex: 212691 entries, 0 to 212690\n",
      "Data columns (total 16 columns):\n",
      " #   Column               Non-Null Count   Dtype  \n",
      "---  ------               --------------   -----  \n",
      " 0   Age                  212691 non-null  int64  \n",
      " 1   Gender               212691 non-null  object \n",
      " 2   Country              212691 non-null  object \n",
      " 3   Ethnicity            212691 non-null  object \n",
      " 4   Family_History       212691 non-null  object \n",
      " 5   Radiation_Exposure   212691 non-null  object \n",
      " 6   Iodine_Deficiency    212691 non-null  object \n",
      " 7   Smoking              212691 non-null  object \n",
      " 8   Obesity              212691 non-null  object \n",
      " 9   Diabetes             212691 non-null  object \n",
      " 10  TSH_Level            212691 non-null  float64\n",
      " 11  T3_Level             212691 non-null  float64\n",
      " 12  T4_Level             212691 non-null  float64\n",
      " 13  Nodule_Size          212691 non-null  float64\n",
      " 14  Thyroid_Cancer_Risk  212691 non-null  object \n",
      " 15  Diagnosis            212691 non-null  object \n",
      "dtypes: float64(4), int64(1), object(11)\n",
      "memory usage: 26.0+ MB\n",
      "None\n",
      "   Age  Gender  Country  Ethnicity Family_History Radiation_Exposure  \\\n",
      "0   66    Male   Russia  Caucasian             No                Yes   \n",
      "1   29    Male  Germany   Hispanic             No                Yes   \n",
      "2   86    Male  Nigeria  Caucasian             No                 No   \n",
      "3   75  Female    India      Asian             No                 No   \n",
      "4   35  Female  Germany    African            Yes                Yes   \n",
      "\n",
      "  Iodine_Deficiency Smoking Obesity Diabetes  TSH_Level  T3_Level  T4_Level  \\\n",
      "0                No      No      No       No       9.37      1.67      6.16   \n",
      "1                No      No      No       No       1.83      1.73     10.54   \n",
      "2                No      No      No       No       6.26      2.59     10.57   \n",
      "3                No      No      No       No       4.10      2.62     11.04   \n",
      "4                No      No      No       No       9.10      2.11     10.71   \n",
      "\n",
      "   Nodule_Size Thyroid_Cancer_Risk Diagnosis  \n",
      "0         1.08                 Low    Benign  \n",
      "1         4.05                 Low    Benign  \n",
      "2         4.61                 Low    Benign  \n",
      "3         2.46              Medium    Benign  \n",
      "4         2.11                High    Benign  \n"
     ]
    }
   ],
   "source": [
    "import pandas as pd\n",
    "\n",
    "file_path = \"datasets/thyroid_cancer_risk_data.csv\"\n",
    "df = pd.read_csv(file_path)\n",
    "\n",
    "# Gereksiz sütunları çıkarımı\n",
    "df.drop(columns=[\"Patient_ID\"], inplace=True)\n",
    "\n",
    "print(df.info())\n",
    "\n",
    "print(df.head())"
   ]
  },
  {
   "cell_type": "markdown",
   "metadata": {},
   "source": [
    "2. Hedef Değişkeni (Thyroid_Cancer_Risk) Sayısala Çevirme"
   ]
  },
  {
   "cell_type": "code",
   "execution_count": 82,
   "metadata": {},
   "outputs": [
    {
     "name": "stdout",
     "output_type": "stream",
     "text": [
      "[0 1 2]\n"
     ]
    }
   ],
   "source": [
    "# Hedef değişkeni dönüştürme\n",
    "risk_mapping = {\"Low\": 0, \"Medium\": 1, \"High\": 2}\n",
    "df[\"Thyroid_Cancer_Risk\"] = df[\"Thyroid_Cancer_Risk\"].map(risk_mapping)\n",
    "\n",
    "# Dönüşümü kontrol edelim\n",
    "print(df[\"Thyroid_Cancer_Risk\"].unique())"
   ]
  },
  {
   "cell_type": "markdown",
   "metadata": {},
   "source": [
    "2.1. Kategorik değişkenleri sayısala dönüştürme"
   ]
  },
  {
   "cell_type": "code",
   "execution_count": 83,
   "metadata": {},
   "outputs": [
    {
     "name": "stdout",
     "output_type": "stream",
     "text": [
      "   Family_History  Radiation_Exposure  Iodine_Deficiency  Smoking  Obesity  \\\n",
      "0               0                   1                  0        0        0   \n",
      "1               0                   1                  0        0        0   \n",
      "2               0                   0                  0        0        0   \n",
      "3               0                   0                  0        0        0   \n",
      "4               1                   1                  0        0        0   \n",
      "\n",
      "   Diabetes  \n",
      "0         0  \n",
      "1         0  \n",
      "2         0  \n",
      "3         0  \n",
      "4         0  \n"
     ]
    },
    {
     "name": "stderr",
     "output_type": "stream",
     "text": [
      "/var/folders/dm/hckhrzb5207cp2xy2c6ts38c0000gn/T/ipykernel_42699/4046470581.py:3: FutureWarning: DataFrame.applymap has been deprecated. Use DataFrame.map instead.\n",
      "  df[binary_columns] = df[binary_columns].applymap(lambda x: 1 if x == \"Yes\" else 0)\n"
     ]
    }
   ],
   "source": [
    "# Yes → 1, No → 0 olarak kodlama\n",
    "binary_columns = [\"Family_History\", \"Radiation_Exposure\", \"Iodine_Deficiency\", \"Smoking\", \"Obesity\", \"Diabetes\"]\n",
    "df[binary_columns] = df[binary_columns].applymap(lambda x: 1 if x == \"Yes\" else 0)\n",
    "\n",
    "# Dönüşüm başarılı mı kontrol edelim\n",
    "print(df[binary_columns].head())"
   ]
  },
  {
   "cell_type": "markdown",
   "metadata": {},
   "source": [
    "2.2. Çoklu Kategorik değişkenleri sayısala dönüştürme"
   ]
  },
  {
   "cell_type": "code",
   "execution_count": 84,
   "metadata": {},
   "outputs": [],
   "source": [
    "from sklearn.preprocessing import LabelEncoder\n",
    "\n",
    "encoder = LabelEncoder()\n",
    "for col in [\"Gender\", \"Country\", \"Ethnicity\"]:\n",
    "    df[col] = encoder.fit_transform(df[col])\n",
    "\n",
    "df = pd.get_dummies(df, columns=[\"Gender\", \"Country\", \"Ethnicity\"], drop_first=True)"
   ]
  },
  {
   "cell_type": "markdown",
   "metadata": {},
   "source": [
    "2.3. Sayısal değişkenleri ölçeklendirme"
   ]
  },
  {
   "cell_type": "code",
   "execution_count": 85,
   "metadata": {},
   "outputs": [],
   "source": [
    "from sklearn.preprocessing import StandardScaler\n",
    "\n",
    "# StandardScaler ile ölçeklendirme\n",
    "scaler = StandardScaler()\n",
    "numeric_features = [\"TSH_Level\", \"T3_Level\", \"T4_Level\", \"Nodule_Size\"]\n",
    "df.loc[:, numeric_features] = scaler.fit_transform(df[numeric_features])"
   ]
  },
  {
   "cell_type": "markdown",
   "metadata": {},
   "source": []
  },
  {
   "cell_type": "code",
   "execution_count": 86,
   "metadata": {},
   "outputs": [
    {
     "name": "stdout",
     "output_type": "stream",
     "text": [
      "Sınıf Dağılımı:\n",
      "Sınıf 0: 108388 örnek\n",
      "Sınıf 1: 72400 örnek\n",
      "Sınıf 2: 31903 örnek\n"
     ]
    }
   ],
   "source": [
    "import numpy as np\n",
    "\n",
    "unique_classes, class_counts = np.unique(df[\"Thyroid_Cancer_Risk\"], return_counts=True)\n",
    "print(\"Sınıf Dağılımı:\")\n",
    "for cls, count in zip(unique_classes, class_counts):\n",
    "    print(f\"Sınıf {cls}: {count} örnek\")"
   ]
  },
  {
   "cell_type": "markdown",
   "metadata": {},
   "source": [
    "3. Eksik veri kontrolü"
   ]
  },
  {
   "cell_type": "code",
   "execution_count": 87,
   "metadata": {},
   "outputs": [
    {
     "name": "stdout",
     "output_type": "stream",
     "text": [
      "Series([], dtype: int64)\n"
     ]
    }
   ],
   "source": [
    "# Eksik veri kontrolü\n",
    "missing_values = df.isnull().sum()\n",
    "print(missing_values[missing_values > 0])"
   ]
  },
  {
   "cell_type": "markdown",
   "metadata": {},
   "source": [
    "3.1. Eksik verileri ortalama ile doldurma"
   ]
  },
  {
   "cell_type": "code",
   "execution_count": 88,
   "metadata": {},
   "outputs": [],
   "source": [
    "# Mode değerini kontrol et ve ona göre doldur\n",
    "if not df[\"Diagnosis\"].mode().empty:\n",
    "    df[\"Diagnosis\"] = df[\"Diagnosis\"].fillna(df[\"Diagnosis\"].mode()[0])\n",
    "else:\n",
    "    df[\"Diagnosis\"] = df[\"Diagnosis\"].fillna(\"Benign\")  # Varsayılan değer olarak 'Benign' atanabilir."
   ]
  },
  {
   "cell_type": "code",
   "execution_count": 89,
   "metadata": {},
   "outputs": [],
   "source": [
    "df.drop(columns=[\"Diagnosis\"], inplace=True)"
   ]
  },
  {
   "cell_type": "markdown",
   "metadata": {},
   "source": [
    "3. Yeni verisetini oluşturma ve kaydetme\n",
    "\n",
    "Ön işlenmiş veriyi tekrar yeni bir veri setine çevrildi ve analiz - modelleme için kaydedildi.\n",
    "Ön işlenmiş veri kümesi yeni bir CSV dosyası olarak kaydedildi."
   ]
  },
  {
   "cell_type": "code",
   "execution_count": 90,
   "metadata": {},
   "outputs": [
    {
     "name": "stdout",
     "output_type": "stream",
     "text": [
      "Veri seti başarıyla kaydedildi: datasets/processed_thyroid_cancer_data.csv\n"
     ]
    }
   ],
   "source": [
    "processed_file_path = \"datasets/processed_thyroid_cancer_data.csv\"\n",
    "df.to_csv(processed_file_path, index=False)\n",
    "\n",
    "print(f\"Veri seti başarıyla kaydedildi: {processed_file_path}\")"
   ]
  },
  {
   "cell_type": "markdown",
   "metadata": {},
   "source": [
    "4. Veri setini küçük parçaya ayırma (%10)"
   ]
  },
  {
   "cell_type": "code",
   "execution_count": 91,
   "metadata": {},
   "outputs": [
    {
     "name": "stdout",
     "output_type": "stream",
     "text": [
      "Küçültülmüş veri seti kaydedildi: datasets/small_processed_thyroid_cancer_data.csv\n"
     ]
    }
   ],
   "source": [
    "import pandas as pd\n",
    "\n",
    "# Ön işleme yapılmış veri setini yükleyelim\n",
    "file_path = \"datasets/new_processed_thyroid_cancer_data.csv\"  # Orijinal dosya adı\n",
    "df = pd.read_csv(file_path)\n",
    "\n",
    "# Veri setinin %10'unu seçerek daha küçük bir veri seti oluşturalım\n",
    "df_sampled = df.sample(frac=0.1, random_state=42)\n",
    "\n",
    "# Yeni dosya adı belirleyelim\n",
    "small_dataset_path = \"datasets/small_processed_thyroid_cancer_data.csv\"\n",
    "\n",
    "# Küçültülmüş veri setini CSV formatında kaydedelim\n",
    "df_sampled.to_csv(small_dataset_path, index=False)\n",
    "\n",
    "print(f\"Küçültülmüş veri seti kaydedildi: {small_dataset_path}\")"
   ]
  },
  {
   "cell_type": "markdown",
   "metadata": {},
   "source": []
  },
  {
   "cell_type": "markdown",
   "metadata": {},
   "source": []
  }
 ],
 "metadata": {
  "kernelspec": {
   "display_name": "base",
   "language": "python",
   "name": "python3"
  },
  "language_info": {
   "codemirror_mode": {
    "name": "ipython",
    "version": 3
   },
   "file_extension": ".py",
   "mimetype": "text/x-python",
   "name": "python",
   "nbconvert_exporter": "python",
   "pygments_lexer": "ipython3",
   "version": "3.11.11"
  }
 },
 "nbformat": 4,
 "nbformat_minor": 2
}
