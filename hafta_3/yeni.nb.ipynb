{
 "cells": [
  {
   "cell_type": "code",
   "execution_count": 2,
   "metadata": {},
   "outputs": [
    {
     "name": "stdout",
     "output_type": "stream",
     "text": [
      "İlk 10 Tahmin: [1 1 1 1 1 1 1 1 1 1]\n"
     ]
    }
   ],
   "source": [
    "import pandas as pd\n",
    "from sklearn.model_selection import train_test_split\n",
    "from sklearn.naive_bayes import GaussianNB\n",
    "from sklearn.preprocessing import LabelEncoder\n",
    "\n",
    "# Veri setini yükle\n",
    "df = pd.read_csv(\"datasets/thyroid_cancer_risk_data.csv\")\n",
    "\n",
    "# Eksik verileri sil (veya doldur)\n",
    "df.dropna(inplace=True)\n",
    "\n",
    "# Kategorik sütunları sayısala çevir\n",
    "for col in df.select_dtypes(include=\"object\").columns:\n",
    "    df[col] = LabelEncoder().fit_transform(df[col])\n",
    "\n",
    "# Bağımlı ve bağımsız değişkenleri ayır\n",
    "X = df.drop(\"Thyroid_Cancer_Risk\", axis=1)\n",
    "y = df[\"Thyroid_Cancer_Risk\"]\n",
    "\n",
    "# Eğitim ve test verisi ayır\n",
    "X_train, X_test, y_train, y_test = train_test_split(X, y, test_size=0.2, random_state=42)\n",
    "\n",
    "# Naïve Bayes modeli\n",
    "model = GaussianNB()\n",
    "model.fit(X_train, y_train)\n",
    "\n",
    "# Tahmin yap\n",
    "y_pred = model.predict(X_test)\n",
    "print(\"İlk 10 Tahmin:\", y_pred[:10])"
   ]
  },
  {
   "cell_type": "code",
   "execution_count": null,
   "metadata": {},
   "outputs": [],
   "source": []
  }
 ],
 "metadata": {
  "kernelspec": {
   "display_name": "base",
   "language": "python",
   "name": "python3"
  },
  "language_info": {
   "codemirror_mode": {
    "name": "ipython",
    "version": 3
   },
   "file_extension": ".py",
   "mimetype": "text/x-python",
   "name": "python",
   "nbconvert_exporter": "python",
   "pygments_lexer": "ipython3",
   "version": "3.11.11"
  }
 },
 "nbformat": 4,
 "nbformat_minor": 2
}
