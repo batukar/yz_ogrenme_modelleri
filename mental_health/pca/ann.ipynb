{
 "cells": [
  {
   "cell_type": "markdown",
   "id": "d30a3e19",
   "metadata": {},
   "source": [
    "1. Gerekli kütüphaneler"
   ]
  },
  {
   "cell_type": "code",
   "execution_count": 179,
   "id": "6915b458",
   "metadata": {},
   "outputs": [],
   "source": [
    "# 🌟 Veri işleme ve analiz için temel kütüphaneler\n",
    "import pandas as pd  # Veri okuma, işleme ve DataFrame oluşturma işlemleri için\n",
    "import numpy as np   # Sayısal işlemler, diziler ve matematiksel hesaplamalar için\n",
    "\n",
    "# 🔧 Veri ölçeklendirme ve değerlendirme metrikleri\n",
    "from sklearn.preprocessing import StandardScaler  # Verileri ölçeklendirmek (standartlaştırmak) için\n",
    "from sklearn.metrics import classification_report, confusion_matrix, roc_auc_score, roc_curve  # Model performansını değerlendirmek için\n",
    "\n",
    "# 🚀 Yapay Sinir Ağı (ANN) modelleri için TensorFlow ve Keras bileşenleri\n",
    "from tensorflow.keras.models import Sequential  # Keras ile sıralı model oluşturmak için\n",
    "from tensorflow.keras.layers import Dense, Dropout, Input  # Yapay sinir ağı katmanları (yoğun, dropout ve giriş)\n",
    "from tensorflow.keras.utils import to_categorical  # Kategorik hedef değişkeni one-hot encoding formatına dönüştürmek için\n",
    "from tensorflow.keras.callbacks import EarlyStopping  # Model eğitimini erken durdurmak için (overfitting'i önlemek amacıyla)\n",
    "\n",
    "# ⚖️ Sınıf dengesizlik sorununu çözmek için SMOTE yöntemi\n",
    "from imblearn.over_sampling import SMOTE  # Azınlık sınıfı örneklerini artırmak (dengeleme) için\n",
    "from collections import Counter  # Sınıf dağılımını saymak ve analiz etmek için\n",
    "\n",
    "# 📊 Görselleştirme ve analiz grafikleri oluşturmak için\n",
    "import matplotlib.pyplot as plt  # Grafikler ve görselleştirmeler oluşturmak için\n",
    "import seaborn as sns  # Estetik görseller ve gelişmiş grafik stilleri için"
   ]
  },
  {
   "cell_type": "markdown",
   "id": "304301ac",
   "metadata": {},
   "source": [
    "2. Veriyi okuma"
   ]
  },
  {
   "cell_type": "code",
   "execution_count": 180,
   "id": "6874b798",
   "metadata": {},
   "outputs": [
    {
     "name": "stdout",
     "output_type": "stream",
     "text": [
      "✅ Eğitim verisi: (1007, 19)\n",
      "✅ Test verisi: (252, 19)\n",
      "🎯 Sınıf dağılımı (y_train):\n",
      " support_needed\n",
      "0    528\n",
      "1    479\n",
      "Name: count, dtype: int64\n"
     ]
    }
   ],
   "source": [
    "# Verileri oku\n",
    "train_df = pd.read_csv(\"../datasets/pca/train_mental_pca.csv\")\n",
    "test_df = pd.read_csv(\"../datasets/pca/test_mental_pca.csv\")\n",
    "\n",
    "# Özellik ve hedef ayır\n",
    "X_train = train_df.drop(\"support_needed\", axis=1)\n",
    "y_train = train_df[\"support_needed\"]\n",
    "\n",
    "X_test = test_df.drop(\"support_needed\", axis=1)\n",
    "y_test = test_df[\"support_needed\"]\n",
    "\n",
    "print(\"✅ Eğitim verisi:\", X_train.shape)\n",
    "print(\"✅ Test verisi:\", X_test.shape)\n",
    "print(\"🎯 Sınıf dağılımı (y_train):\\n\", pd.Series(y_train).value_counts())"
   ]
  },
  {
   "cell_type": "markdown",
   "id": "973b8d55",
   "metadata": {},
   "source": [
    "3. SMOTE ile veri dengeleme"
   ]
  },
  {
   "cell_type": "code",
   "execution_count": 181,
   "id": "69695045",
   "metadata": {},
   "outputs": [
    {
     "name": "stdout",
     "output_type": "stream",
     "text": [
      "🎯 Orijinal sınıf dağılımı: Counter({0: 528, 1: 479})\n",
      "⚖️ Dengelenmiş eğitim sınıf dağılımı: Counter({0: 528, 1: 528})\n"
     ]
    }
   ],
   "source": [
    "print(\"🎯 Orijinal sınıf dağılımı:\", Counter(y_train))\n",
    "\n",
    "# 3️⃣ SMOTE ile oversampling\n",
    "smote = SMOTE(random_state=42)\n",
    "X_train_balanced, y_train_balanced = smote.fit_resample(X_train, y_train)\n",
    "\n",
    "print(\"⚖️ Dengelenmiş eğitim sınıf dağılımı:\", Counter(y_train_balanced))"
   ]
  },
  {
   "cell_type": "code",
   "execution_count": 182,
   "id": "ce19b9ad",
   "metadata": {},
   "outputs": [],
   "source": [
    "# 🌟 Eğitim ve test hedeflerini one-hot encode yapma\n",
    "y_train_cat = to_categorical(y_train_balanced)\n",
    "y_test_cat = to_categorical(y_test)"
   ]
  },
  {
   "cell_type": "markdown",
   "id": "bbf09e4b",
   "metadata": {},
   "source": [
    "4. ANN modeli"
   ]
  },
  {
   "cell_type": "code",
   "execution_count": 183,
   "id": "51deff5f",
   "metadata": {},
   "outputs": [
    {
     "data": {
      "text/html": [
       "<pre style=\"white-space:pre;overflow-x:auto;line-height:normal;font-family:Menlo,'DejaVu Sans Mono',consolas,'Courier New',monospace\"><span style=\"font-weight: bold\">Model: \"sequential_20\"</span>\n",
       "</pre>\n"
      ],
      "text/plain": [
       "\u001b[1mModel: \"sequential_20\"\u001b[0m\n"
      ]
     },
     "metadata": {},
     "output_type": "display_data"
    },
    {
     "data": {
      "text/html": [
       "<pre style=\"white-space:pre;overflow-x:auto;line-height:normal;font-family:Menlo,'DejaVu Sans Mono',consolas,'Courier New',monospace\">┏━━━━━━━━━━━━━━━━━━━━━━━━━━━━━━━━━┳━━━━━━━━━━━━━━━━━━━━━━━━┳━━━━━━━━━━━━━━━┓\n",
       "┃<span style=\"font-weight: bold\"> Layer (type)                    </span>┃<span style=\"font-weight: bold\"> Output Shape           </span>┃<span style=\"font-weight: bold\">       Param # </span>┃\n",
       "┡━━━━━━━━━━━━━━━━━━━━━━━━━━━━━━━━━╇━━━━━━━━━━━━━━━━━━━━━━━━╇━━━━━━━━━━━━━━━┩\n",
       "│ dense_74 (<span style=\"color: #0087ff; text-decoration-color: #0087ff\">Dense</span>)                │ (<span style=\"color: #00d7ff; text-decoration-color: #00d7ff\">None</span>, <span style=\"color: #00af00; text-decoration-color: #00af00\">128</span>)            │         <span style=\"color: #00af00; text-decoration-color: #00af00\">2,560</span> │\n",
       "├─────────────────────────────────┼────────────────────────┼───────────────┤\n",
       "│ dropout_54 (<span style=\"color: #0087ff; text-decoration-color: #0087ff\">Dropout</span>)            │ (<span style=\"color: #00d7ff; text-decoration-color: #00d7ff\">None</span>, <span style=\"color: #00af00; text-decoration-color: #00af00\">128</span>)            │             <span style=\"color: #00af00; text-decoration-color: #00af00\">0</span> │\n",
       "├─────────────────────────────────┼────────────────────────┼───────────────┤\n",
       "│ dense_75 (<span style=\"color: #0087ff; text-decoration-color: #0087ff\">Dense</span>)                │ (<span style=\"color: #00d7ff; text-decoration-color: #00d7ff\">None</span>, <span style=\"color: #00af00; text-decoration-color: #00af00\">64</span>)             │         <span style=\"color: #00af00; text-decoration-color: #00af00\">8,256</span> │\n",
       "├─────────────────────────────────┼────────────────────────┼───────────────┤\n",
       "│ dropout_55 (<span style=\"color: #0087ff; text-decoration-color: #0087ff\">Dropout</span>)            │ (<span style=\"color: #00d7ff; text-decoration-color: #00d7ff\">None</span>, <span style=\"color: #00af00; text-decoration-color: #00af00\">64</span>)             │             <span style=\"color: #00af00; text-decoration-color: #00af00\">0</span> │\n",
       "├─────────────────────────────────┼────────────────────────┼───────────────┤\n",
       "│ dense_76 (<span style=\"color: #0087ff; text-decoration-color: #0087ff\">Dense</span>)                │ (<span style=\"color: #00d7ff; text-decoration-color: #00d7ff\">None</span>, <span style=\"color: #00af00; text-decoration-color: #00af00\">32</span>)             │         <span style=\"color: #00af00; text-decoration-color: #00af00\">2,080</span> │\n",
       "├─────────────────────────────────┼────────────────────────┼───────────────┤\n",
       "│ dropout_56 (<span style=\"color: #0087ff; text-decoration-color: #0087ff\">Dropout</span>)            │ (<span style=\"color: #00d7ff; text-decoration-color: #00d7ff\">None</span>, <span style=\"color: #00af00; text-decoration-color: #00af00\">32</span>)             │             <span style=\"color: #00af00; text-decoration-color: #00af00\">0</span> │\n",
       "├─────────────────────────────────┼────────────────────────┼───────────────┤\n",
       "│ dense_77 (<span style=\"color: #0087ff; text-decoration-color: #0087ff\">Dense</span>)                │ (<span style=\"color: #00d7ff; text-decoration-color: #00d7ff\">None</span>, <span style=\"color: #00af00; text-decoration-color: #00af00\">2</span>)              │            <span style=\"color: #00af00; text-decoration-color: #00af00\">66</span> │\n",
       "└─────────────────────────────────┴────────────────────────┴───────────────┘\n",
       "</pre>\n"
      ],
      "text/plain": [
       "┏━━━━━━━━━━━━━━━━━━━━━━━━━━━━━━━━━┳━━━━━━━━━━━━━━━━━━━━━━━━┳━━━━━━━━━━━━━━━┓\n",
       "┃\u001b[1m \u001b[0m\u001b[1mLayer (type)                   \u001b[0m\u001b[1m \u001b[0m┃\u001b[1m \u001b[0m\u001b[1mOutput Shape          \u001b[0m\u001b[1m \u001b[0m┃\u001b[1m \u001b[0m\u001b[1m      Param #\u001b[0m\u001b[1m \u001b[0m┃\n",
       "┡━━━━━━━━━━━━━━━━━━━━━━━━━━━━━━━━━╇━━━━━━━━━━━━━━━━━━━━━━━━╇━━━━━━━━━━━━━━━┩\n",
       "│ dense_74 (\u001b[38;5;33mDense\u001b[0m)                │ (\u001b[38;5;45mNone\u001b[0m, \u001b[38;5;34m128\u001b[0m)            │         \u001b[38;5;34m2,560\u001b[0m │\n",
       "├─────────────────────────────────┼────────────────────────┼───────────────┤\n",
       "│ dropout_54 (\u001b[38;5;33mDropout\u001b[0m)            │ (\u001b[38;5;45mNone\u001b[0m, \u001b[38;5;34m128\u001b[0m)            │             \u001b[38;5;34m0\u001b[0m │\n",
       "├─────────────────────────────────┼────────────────────────┼───────────────┤\n",
       "│ dense_75 (\u001b[38;5;33mDense\u001b[0m)                │ (\u001b[38;5;45mNone\u001b[0m, \u001b[38;5;34m64\u001b[0m)             │         \u001b[38;5;34m8,256\u001b[0m │\n",
       "├─────────────────────────────────┼────────────────────────┼───────────────┤\n",
       "│ dropout_55 (\u001b[38;5;33mDropout\u001b[0m)            │ (\u001b[38;5;45mNone\u001b[0m, \u001b[38;5;34m64\u001b[0m)             │             \u001b[38;5;34m0\u001b[0m │\n",
       "├─────────────────────────────────┼────────────────────────┼───────────────┤\n",
       "│ dense_76 (\u001b[38;5;33mDense\u001b[0m)                │ (\u001b[38;5;45mNone\u001b[0m, \u001b[38;5;34m32\u001b[0m)             │         \u001b[38;5;34m2,080\u001b[0m │\n",
       "├─────────────────────────────────┼────────────────────────┼───────────────┤\n",
       "│ dropout_56 (\u001b[38;5;33mDropout\u001b[0m)            │ (\u001b[38;5;45mNone\u001b[0m, \u001b[38;5;34m32\u001b[0m)             │             \u001b[38;5;34m0\u001b[0m │\n",
       "├─────────────────────────────────┼────────────────────────┼───────────────┤\n",
       "│ dense_77 (\u001b[38;5;33mDense\u001b[0m)                │ (\u001b[38;5;45mNone\u001b[0m, \u001b[38;5;34m2\u001b[0m)              │            \u001b[38;5;34m66\u001b[0m │\n",
       "└─────────────────────────────────┴────────────────────────┴───────────────┘\n"
      ]
     },
     "metadata": {},
     "output_type": "display_data"
    },
    {
     "data": {
      "text/html": [
       "<pre style=\"white-space:pre;overflow-x:auto;line-height:normal;font-family:Menlo,'DejaVu Sans Mono',consolas,'Courier New',monospace\"><span style=\"font-weight: bold\"> Total params: </span><span style=\"color: #00af00; text-decoration-color: #00af00\">12,962</span> (50.63 KB)\n",
       "</pre>\n"
      ],
      "text/plain": [
       "\u001b[1m Total params: \u001b[0m\u001b[38;5;34m12,962\u001b[0m (50.63 KB)\n"
      ]
     },
     "metadata": {},
     "output_type": "display_data"
    },
    {
     "data": {
      "text/html": [
       "<pre style=\"white-space:pre;overflow-x:auto;line-height:normal;font-family:Menlo,'DejaVu Sans Mono',consolas,'Courier New',monospace\"><span style=\"font-weight: bold\"> Trainable params: </span><span style=\"color: #00af00; text-decoration-color: #00af00\">12,962</span> (50.63 KB)\n",
       "</pre>\n"
      ],
      "text/plain": [
       "\u001b[1m Trainable params: \u001b[0m\u001b[38;5;34m12,962\u001b[0m (50.63 KB)\n"
      ]
     },
     "metadata": {},
     "output_type": "display_data"
    },
    {
     "data": {
      "text/html": [
       "<pre style=\"white-space:pre;overflow-x:auto;line-height:normal;font-family:Menlo,'DejaVu Sans Mono',consolas,'Courier New',monospace\"><span style=\"font-weight: bold\"> Non-trainable params: </span><span style=\"color: #00af00; text-decoration-color: #00af00\">0</span> (0.00 B)\n",
       "</pre>\n"
      ],
      "text/plain": [
       "\u001b[1m Non-trainable params: \u001b[0m\u001b[38;5;34m0\u001b[0m (0.00 B)\n"
      ]
     },
     "metadata": {},
     "output_type": "display_data"
    }
   ],
   "source": [
    "model = Sequential([\n",
    "    Input(shape=(X_train_balanced.shape[1],)),\n",
    "    Dense(128, activation='relu'),\n",
    "    Dropout(0.4),\n",
    "    Dense(64, activation='relu'),\n",
    "    Dropout(0.2),\n",
    "    Dense(32, activation='relu'),\n",
    "    Dropout(0.2),\n",
    "    Dense(2, activation='sigmoid')  # 2 sınıf için sigmoid\n",
    "])\n",
    "\n",
    "model.compile(optimizer='adam', loss='categorical_crossentropy', metrics=['accuracy'])\n",
    "model.summary()"
   ]
  },
  {
   "cell_type": "markdown",
   "id": "b9eea5b1",
   "metadata": {},
   "source": [
    "5. Model eğitimi"
   ]
  },
  {
   "cell_type": "code",
   "execution_count": 184,
   "id": "fd48108f",
   "metadata": {},
   "outputs": [
    {
     "name": "stdout",
     "output_type": "stream",
     "text": [
      "Epoch 1/30\n",
      "\u001b[1m27/27\u001b[0m \u001b[32m━━━━━━━━━━━━━━━━━━━━\u001b[0m\u001b[37m\u001b[0m \u001b[1m2s\u001b[0m 29ms/step - accuracy: 0.5433 - loss: 0.9589 - val_accuracy: 0.7783 - val_loss: 0.4619\n",
      "Epoch 2/30\n",
      "\u001b[1m27/27\u001b[0m \u001b[32m━━━━━━━━━━━━━━━━━━━━\u001b[0m\u001b[37m\u001b[0m \u001b[1m1s\u001b[0m 17ms/step - accuracy: 0.6829 - loss: 0.6145 - val_accuracy: 0.8066 - val_loss: 0.4415\n",
      "Epoch 3/30\n",
      "\u001b[1m27/27\u001b[0m \u001b[32m━━━━━━━━━━━━━━━━━━━━\u001b[0m\u001b[37m\u001b[0m \u001b[1m1s\u001b[0m 20ms/step - accuracy: 0.7425 - loss: 0.5795 - val_accuracy: 0.8113 - val_loss: 0.4216\n",
      "Epoch 4/30\n",
      "\u001b[1m27/27\u001b[0m \u001b[32m━━━━━━━━━━━━━━━━━━━━\u001b[0m\u001b[37m\u001b[0m \u001b[1m1s\u001b[0m 20ms/step - accuracy: 0.7299 - loss: 0.5719 - val_accuracy: 0.8160 - val_loss: 0.4325\n",
      "Epoch 5/30\n",
      "\u001b[1m27/27\u001b[0m \u001b[32m━━━━━━━━━━━━━━━━━━━━\u001b[0m\u001b[37m\u001b[0m \u001b[1m1s\u001b[0m 20ms/step - accuracy: 0.7366 - loss: 0.5748 - val_accuracy: 0.8066 - val_loss: 0.4253\n",
      "Epoch 6/30\n",
      "\u001b[1m27/27\u001b[0m \u001b[32m━━━━━━━━━━━━━━━━━━━━\u001b[0m\u001b[37m\u001b[0m \u001b[1m1s\u001b[0m 20ms/step - accuracy: 0.7450 - loss: 0.5161 - val_accuracy: 0.8160 - val_loss: 0.4233\n",
      "Epoch 7/30\n",
      "\u001b[1m27/27\u001b[0m \u001b[32m━━━━━━━━━━━━━━━━━━━━\u001b[0m\u001b[37m\u001b[0m \u001b[1m1s\u001b[0m 22ms/step - accuracy: 0.7552 - loss: 0.5121 - val_accuracy: 0.8066 - val_loss: 0.4294\n",
      "Epoch 8/30\n",
      "\u001b[1m27/27\u001b[0m \u001b[32m━━━━━━━━━━━━━━━━━━━━\u001b[0m\u001b[37m\u001b[0m \u001b[1m1s\u001b[0m 17ms/step - accuracy: 0.7519 - loss: 0.5591 - val_accuracy: 0.8066 - val_loss: 0.4252\n",
      "✅ Model başarıyla eğitildi.\n"
     ]
    }
   ],
   "source": [
    "# 🌟 Eğitim sırasında erken durma kriteri\n",
    "early_stop = EarlyStopping(monitor='val_loss', patience=5, restore_best_weights=True)\n",
    "\n",
    "# 🚀 Model eğitimi\n",
    "history = model.fit(\n",
    "    X_train_balanced,            # Girdi verisi\n",
    "    y_train_cat,                 # Hedef verisi\n",
    "    epochs=30,                   # Maksimum dönem sayısı\n",
    "    batch_size=32,               # Mini-batch boyutu\n",
    "    validation_split=0.2,        # Eğitim/Doğrulama oranı\n",
    "    callbacks=[early_stop],      # Erken durma kriteri\n",
    "    verbose=1                    # Eğitim ilerlemesini göster\n",
    ")\n",
    "\n",
    "print(\"✅ Model başarıyla eğitildi.\")"
   ]
  },
  {
   "cell_type": "markdown",
   "id": "30082bb6",
   "metadata": {},
   "source": [
    "6. Tahmin, rapor ve görselleştirme"
   ]
  },
  {
   "cell_type": "code",
   "execution_count": 185,
   "id": "bb53ca06",
   "metadata": {},
   "outputs": [
    {
     "name": "stdout",
     "output_type": "stream",
     "text": [
      "\u001b[1m8/8\u001b[0m \u001b[32m━━━━━━━━━━━━━━━━━━━━\u001b[0m\u001b[37m\u001b[0m \u001b[1m0s\u001b[0m 5ms/step \n"
     ]
    }
   ],
   "source": [
    "# Tahmin (olasılıklar)\n",
    "y_proba = model.predict(X_test)\n",
    "\n",
    "# En yüksek olasılığa göre sınıf tahmini\n",
    "y_pred = y_proba.argmax(axis=1)"
   ]
  },
  {
   "cell_type": "code",
   "execution_count": 188,
   "id": "1ef7205c",
   "metadata": {},
   "outputs": [
    {
     "name": "stdout",
     "output_type": "stream",
     "text": [
      "📋 PCA Sonrası Sınıflandırma Raporu (ANN):\n",
      "\n",
      "              precision    recall  f1-score   support\n",
      "\n",
      "           0      0.805     0.811     0.808       132\n",
      "           1      0.790     0.783     0.787       120\n",
      "\n",
      "    accuracy                          0.798       252\n",
      "   macro avg      0.797     0.797     0.797       252\n",
      "weighted avg      0.798     0.798     0.798       252\n",
      "\n"
     ]
    },
    {
     "data": {
      "image/png": "[encoded data removed]",
      "text/plain": [
       "<Figure size 600x400 with 2 Axes>"
      ]
     },
     "metadata": {},
     "output_type": "display_data"
    },
    {
     "data": {
      "image/png": "[encoded data removed]",
      "text/plain": [
       "<Figure size 600x400 with 1 Axes>"
      ]
     },
     "metadata": {},
     "output_type": "display_data"
    }
   ],
   "source": [
    "# 📋 Sınıflandırma raporu\n",
    "print(\"📋 PCA Sonrası Sınıflandırma Raporu (ANN):\\n\")\n",
    "report = classification_report(y_test, y_pred, digits=3)  # 3 basamak hassasiyeti\n",
    "print(report)\n",
    "\n",
    "# 🔍 Karmaşıklık Matrisi\n",
    "cm = confusion_matrix(y_test, y_pred)\n",
    "plt.figure(figsize=(6, 4))\n",
    "sns.heatmap(cm, annot=True, fmt=\"d\", cmap=\"Blues\", xticklabels=[\"No\", \"Yes\"], yticklabels=[\"No\", \"Yes\"])\n",
    "plt.title(\"PCA Sonrası Karmaşıklık Matrisi – ANN\")\n",
    "plt.xlabel(\"Tahmin Edilen\")\n",
    "plt.ylabel(\"Gerçek Sınıf\")\n",
    "plt.tight_layout()\n",
    "plt.show()\n",
    "\n",
    "# 🌈 ROC Eğrisi\n",
    "fpr, tpr, _ = roc_curve(y_test, y_proba[:, 1])\n",
    "roc_auc = roc_auc_score(y_test, y_proba[:, 1])\n",
    "\n",
    "plt.figure(figsize=(6, 4))\n",
    "plt.plot(fpr, tpr, label=f\"ROC AUC = {roc_auc:.4f}\", color=\"blue\")\n",
    "plt.plot([0, 1], [0, 1], 'k--')\n",
    "plt.xlabel(\"False Positive Rate\")\n",
    "plt.ylabel(\"True Positive Rate\")\n",
    "plt.title(\"PCA Sonrası ROC Eğrisi – ANN\")\n",
    "plt.legend(loc=\"lower right\")\n",
    "plt.grid()\n",
    "plt.tight_layout()\n",
    "plt.show()"
   ]
  },
  {
   "cell_type": "markdown",
   "id": "64fa8fb0",
   "metadata": {},
   "source": [
    "7. Model kaydı"
   ]
  },
  {
   "cell_type": "code",
   "execution_count": 187,
   "id": "1988740c",
   "metadata": {},
   "outputs": [
    {
     "name": "stdout",
     "output_type": "stream",
     "text": [
      "💾 Model başarıyla kaydedildi:\n",
      "- mental_ann_model.keras\n",
      "- mental_ann_model.pkl\n"
     ]
    }
   ],
   "source": [
    "import joblib\n",
    "\n",
    "model.save(\"../saved_model/pca/mental_ann_model.keras\")\n",
    "joblib.dump(model, \"../saved_model/pca/mental_ann_model.pkl\")\n",
    "\n",
    "print(\"💾 Model başarıyla kaydedildi:\")\n",
    "print(\"- mental_ann_model.keras\")\n",
    "print(\"- mental_ann_model.pkl\")"
   ]
  },
  {
   "cell_type": "markdown",
   "id": "54781419",
   "metadata": {},
   "source": []
  }
 ],
 "metadata": {
  "kernelspec": {
   "display_name": "base",
   "language": "python",
   "name": "python3"
  },
  "language_info": {
   "codemirror_mode": {
    "name": "ipython",
    "version": 3
   },
   "file_extension": ".py",
   "mimetype": "text/x-python",
   "name": "python",
   "nbconvert_exporter": "python",
   "pygments_lexer": "ipython3",
   "version": "3.11.11"
  }
 },
 "nbformat": 4,
 "nbformat_minor": 5
}
