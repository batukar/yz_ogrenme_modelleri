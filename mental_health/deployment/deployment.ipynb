{
 "cells": [
  {
   "cell_type": "markdown",
   "id": "5f03a7f1",
   "metadata": {},
   "source": [
    "1. Gerekli kütüphaneler"
   ]
  },
  {
   "cell_type": "code",
   "execution_count": 3,
   "id": "afc967a5",
   "metadata": {},
   "outputs": [],
   "source": [
    "import joblib\n",
    "import pandas as pd\n",
    "from sklearn.linear_model import LogisticRegression\n",
    "\n",
    "from flask import Flask, request, jsonify"
   ]
  },
  {
   "cell_type": "markdown",
   "id": "4d04da69",
   "metadata": {},
   "source": [
    "2. Modeli kaydet"
   ]
  },
  {
   "cell_type": "code",
   "execution_count": 4,
   "id": "5eb8015d",
   "metadata": {},
   "outputs": [
    {
     "data": {
      "text/plain": [
       "['mental_logreg_model.pkl']"
      ]
     },
     "execution_count": 4,
     "metadata": {},
     "output_type": "execute_result"
    }
   ],
   "source": [
    "# Modeli örnek olarak eğitelim (varsa bu kısmı atlayabilirsin)\n",
    "train_df = pd.read_csv(\"../datasets/normal/train_mental.csv\")\n",
    "X_train = train_df.drop(\"treatment\", axis=1)\n",
    "y_train = train_df[\"treatment\"]\n",
    "\n",
    "model = LogisticRegression(max_iter=1000)\n",
    "model.fit(X_train, y_train)\n",
    "\n",
    "# Kaydet\n",
    "joblib.dump(model, \"mental_logreg_model.pkl\")"
   ]
  },
  {
   "cell_type": "markdown",
   "id": "8dfbd8a4",
   "metadata": {},
   "source": []
  }
 ],
 "metadata": {
  "kernelspec": {
   "display_name": "base",
   "language": "python",
   "name": "python3"
  },
  "language_info": {
   "codemirror_mode": {
    "name": "ipython",
    "version": 3
   },
   "file_extension": ".py",
   "mimetype": "text/x-python",
   "name": "python",
   "nbconvert_exporter": "python",
   "pygments_lexer": "ipython3",
   "version": "3.11.11"
  }
 },
 "nbformat": 4,
 "nbformat_minor": 5
}
