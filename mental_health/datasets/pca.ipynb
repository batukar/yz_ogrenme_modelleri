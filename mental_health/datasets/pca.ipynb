{
 "cells": [
  {
   "cell_type": "markdown",
   "id": "5f9a73fd",
   "metadata": {},
   "source": [
    "1. Gerekli kütüphaneler"
   ]
  },
  {
   "cell_type": "code",
   "execution_count": 1,
   "id": "0cfed64d",
   "metadata": {},
   "outputs": [],
   "source": [
    "from sklearn.decomposition import PCA\n",
    "from sklearn.preprocessing import StandardScaler\n",
    "import pandas as pd"
   ]
  },
  {
   "cell_type": "markdown",
   "id": "c042699b",
   "metadata": {},
   "source": [
    "2. Veriyi okuma"
   ]
  },
  {
   "cell_type": "code",
   "execution_count": 2,
   "id": "bb346523",
   "metadata": {},
   "outputs": [],
   "source": [
    "# 📥 Veriyi oku\n",
    "train_df = pd.read_csv(\"normal/train_mental.csv\")\n",
    "test_df = pd.read_csv(\"normal/test_mental.csv\")\n",
    "\n",
    "# 🎯 Hedefi ayır\n",
    "X_train = train_df.drop(\"treatment\", axis=1)\n",
    "y_train = train_df[\"treatment\"]\n",
    "X_test = test_df.drop(\"treatment\", axis=1)\n",
    "y_test = test_df[\"treatment\"]"
   ]
  },
  {
   "cell_type": "markdown",
   "id": "ea9bef12",
   "metadata": {},
   "source": [
    "3. PCA ile boyut indirgeme"
   ]
  },
  {
   "cell_type": "code",
   "execution_count": 3,
   "id": "dd15358b",
   "metadata": {},
   "outputs": [
    {
     "name": "stdout",
     "output_type": "stream",
     "text": [
      "Orijinal boyut: 22\n",
      "PCA sonrası boyut: 20\n"
     ]
    }
   ],
   "source": [
    "# 🔄 Standardize et\n",
    "scaler = StandardScaler()\n",
    "X_train_scaled = scaler.fit_transform(X_train)\n",
    "X_test_scaled = scaler.transform(X_test)\n",
    "\n",
    "# 📉 PCA ile boyut indir\n",
    "pca = PCA(n_components=0.95, random_state=42)  # %95 varyansı koru\n",
    "X_train_pca = pca.fit_transform(X_train_scaled)\n",
    "X_test_pca = pca.transform(X_test_scaled)\n",
    "\n",
    "# Yeni shape bilgisi\n",
    "print(\"Orijinal boyut:\", X_train.shape[1])\n",
    "print(\"PCA sonrası boyut:\", X_train_pca.shape[1])"
   ]
  },
  {
   "cell_type": "markdown",
   "id": "16149dde",
   "metadata": {},
   "source": [
    "4. PCA sonrası veriyi kaydetme"
   ]
  },
  {
   "cell_type": "code",
   "execution_count": 4,
   "id": "6f2a7b7a",
   "metadata": {},
   "outputs": [],
   "source": [
    "# PCA sonrası verileri DataFrame'e çevir\n",
    "df_train_pca = pd.DataFrame(X_train_pca)\n",
    "df_train_pca[\"treatment\"] = y_train.values\n",
    "\n",
    "df_test_pca = pd.DataFrame(X_test_pca)\n",
    "df_test_pca[\"treatment\"] = y_test.values\n",
    "\n",
    "# CSV olarak kaydet\n",
    "df_train_pca.to_csv(\"pca/train_mental_pca.csv\", index=False)\n",
    "df_test_pca.to_csv(\"pca/test_mental_pca.csv\", index=False)"
   ]
  },
  {
   "cell_type": "markdown",
   "id": "009ec14d",
   "metadata": {},
   "source": []
  }
 ],
 "metadata": {
  "kernelspec": {
   "display_name": "base",
   "language": "python",
   "name": "python3"
  },
  "language_info": {
   "codemirror_mode": {
    "name": "ipython",
    "version": 3
   },
   "file_extension": ".py",
   "mimetype": "text/x-python",
   "name": "python",
   "nbconvert_exporter": "python",
   "pygments_lexer": "ipython3",
   "version": "3.11.11"
  }
 },
 "nbformat": 4,
 "nbformat_minor": 5
}
