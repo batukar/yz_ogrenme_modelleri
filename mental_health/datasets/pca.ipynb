{
 "cells": [
  {
   "cell_type": "markdown",
   "id": "5f9a73fd",
   "metadata": {},
   "source": [
    "1. Gerekli kütüphaneler"
   ]
  },
  {
   "cell_type": "code",
   "execution_count": 46,
   "id": "0cfed64d",
   "metadata": {},
   "outputs": [],
   "source": [
    "from sklearn.decomposition import PCA\n",
    "from sklearn.preprocessing import StandardScaler\n",
    "import pandas as pd\n",
    "import matplotlib.pyplot as plt\n",
    "import joblib"
   ]
  },
  {
   "cell_type": "markdown",
   "id": "c042699b",
   "metadata": {},
   "source": [
    "2. Veriyi okuma"
   ]
  },
  {
   "cell_type": "code",
   "execution_count": 47,
   "id": "bb346523",
   "metadata": {},
   "outputs": [],
   "source": [
    "# 📥 Veriyi oku\n",
    "train_df = pd.read_csv(\"normal/train_mental.csv\")\n",
    "test_df = pd.read_csv(\"normal/test_mental.csv\")\n",
    "\n",
    "X_test = test_df.drop(\"support_needed\", axis=1)\n",
    "y_train = train_df[\"support_needed\"]\n",
    "\n",
    "# Eski 'treatment' sütununu da silelim\n",
    "X_train = train_df.drop(\"support_needed\", axis=1)\n",
    "y_test = test_df[\"support_needed\"]"
   ]
  },
  {
   "cell_type": "code",
   "execution_count": 48,
   "id": "ea5a67a6",
   "metadata": {},
   "outputs": [
    {
     "name": "stdout",
     "output_type": "stream",
     "text": [
      "🔍 Eğitim Veri Seti (İlk 5 Satır):\n",
      "   Age  Gender  Country  family_history  treatment  work_interfere  \\\n",
      "0   23       1       41               0          0               2   \n",
      "1   19       1       44               0          0               3   \n",
      "2   28       1       45               1          0               3   \n",
      "3   41       1       45               1          1               1   \n",
      "4   25       1       45               1          0               3   \n",
      "\n",
      "   no_employees  remote_work  tech_company  benefits  ...  anonymity  leave  \\\n",
      "0             4            0             1         0  ...          0      3   \n",
      "1             0            0             1         1  ...          1      0   \n",
      "2             4            0             1         0  ...          0      1   \n",
      "3             5            0             1         2  ...          0      1   \n",
      "4             2            0             1         0  ...          0      3   \n",
      "\n",
      "   mental_health_consequence  phys_health_consequence  coworkers  supervisor  \\\n",
      "0                          1                        1          1           2   \n",
      "1                          2                        1          0           0   \n",
      "2                          1                        1          1           2   \n",
      "3                          0                        0          1           1   \n",
      "4                          1                        1          1           2   \n",
      "\n",
      "   mental_health_interview  phys_health_interview  mental_vs_physical  \\\n",
      "0                        0                      0                   2   \n",
      "1                        1                      0                   1   \n",
      "2                        1                      2                   0   \n",
      "3                        1                      1                   0   \n",
      "4                        1                      1                   0   \n",
      "\n",
      "   obs_consequence  \n",
      "0                0  \n",
      "1                0  \n",
      "2                0  \n",
      "3                1  \n",
      "4                0  \n",
      "\n",
      "[5 rows x 23 columns]\n",
      "\n",
      "📝 Eğitim Veri Seti Bilgisi:\n",
      "<class 'pandas.core.frame.DataFrame'>\n",
      "RangeIndex: 1007 entries, 0 to 1006\n",
      "Data columns (total 23 columns):\n",
      " #   Column                     Non-Null Count  Dtype\n",
      "---  ------                     --------------  -----\n",
      " 0   Age                        1007 non-null   int64\n",
      " 1   Gender                     1007 non-null   int64\n",
      " 2   Country                    1007 non-null   int64\n",
      " 3   family_history             1007 non-null   int64\n",
      " 4   treatment                  1007 non-null   int64\n",
      " 5   work_interfere             1007 non-null   int64\n",
      " 6   no_employees               1007 non-null   int64\n",
      " 7   remote_work                1007 non-null   int64\n",
      " 8   tech_company               1007 non-null   int64\n",
      " 9   benefits                   1007 non-null   int64\n",
      " 10  care_options               1007 non-null   int64\n",
      " 11  wellness_program           1007 non-null   int64\n",
      " 12  seek_help                  1007 non-null   int64\n",
      " 13  anonymity                  1007 non-null   int64\n",
      " 14  leave                      1007 non-null   int64\n",
      " 15  mental_health_consequence  1007 non-null   int64\n",
      " 16  phys_health_consequence    1007 non-null   int64\n",
      " 17  coworkers                  1007 non-null   int64\n",
      " 18  supervisor                 1007 non-null   int64\n",
      " 19  mental_health_interview    1007 non-null   int64\n",
      " 20  phys_health_interview      1007 non-null   int64\n",
      " 21  mental_vs_physical         1007 non-null   int64\n",
      " 22  obs_consequence            1007 non-null   int64\n",
      "dtypes: int64(23)\n",
      "memory usage: 181.1 KB\n",
      "None\n",
      "\n",
      "📊 Eğitim Veri Seti İstatistikleri:\n",
      "               Age       Gender      Country  family_history    treatment  \\\n",
      "count  1007.000000  1007.000000  1007.000000     1007.000000  1007.000000   \n",
      "mean     31.994042     0.811321    37.255214        0.388282     0.499503   \n",
      "std       7.297700     0.418450    13.708533        0.487601     0.500248   \n",
      "min      18.000000     0.000000     0.000000        0.000000     0.000000   \n",
      "25%      27.000000     1.000000    36.500000        0.000000     0.000000   \n",
      "50%      31.000000     1.000000    45.000000        0.000000     0.000000   \n",
      "75%      36.000000     1.000000    45.000000        1.000000     1.000000   \n",
      "max      65.000000     2.000000    45.000000        1.000000     1.000000   \n",
      "\n",
      "       work_interfere  no_employees  remote_work  tech_company     benefits  \\\n",
      "count     1007.000000   1007.000000  1007.000000   1007.000000  1007.000000   \n",
      "mean         2.114201      2.753724     0.302880      0.819265     1.051639   \n",
      "std          1.172018      1.731742     0.459732      0.384990     0.828970   \n",
      "min          0.000000      0.000000     0.000000      0.000000     0.000000   \n",
      "25%          1.000000      1.000000     0.000000      1.000000     0.000000   \n",
      "50%          3.000000      2.000000     0.000000      1.000000     1.000000   \n",
      "75%          3.000000      4.000000     1.000000      1.000000     2.000000   \n",
      "max          3.000000      5.000000     1.000000      1.000000     2.000000   \n",
      "\n",
      "       ...    anonymity        leave  mental_health_consequence  \\\n",
      "count  ...  1007.000000  1007.000000                1007.000000   \n",
      "mean   ...     0.663357     1.278054                   0.855015   \n",
      "std    ...     0.913167     0.856588                   0.762459   \n",
      "min    ...     0.000000     0.000000                   0.000000   \n",
      "25%    ...     0.000000     1.000000                   0.000000   \n",
      "50%    ...     0.000000     1.000000                   1.000000   \n",
      "75%    ...     2.000000     1.000000                   1.000000   \n",
      "max    ...     2.000000     3.000000                   2.000000   \n",
      "\n",
      "       phys_health_consequence    coworkers   supervisor  \\\n",
      "count              1007.000000  1007.000000  1007.000000   \n",
      "mean                  0.832175     0.987090     1.122145   \n",
      "std                   0.491111     0.618496     0.842448   \n",
      "min                   0.000000     0.000000     0.000000   \n",
      "25%                   1.000000     1.000000     0.000000   \n",
      "50%                   1.000000     1.000000     1.000000   \n",
      "75%                   1.000000     1.000000     2.000000   \n",
      "max                   2.000000     2.000000     2.000000   \n",
      "\n",
      "       mental_health_interview  phys_health_interview  mental_vs_physical  \\\n",
      "count              1007.000000            1007.000000         1007.000000   \n",
      "mean                  0.869911               0.699106            0.815293   \n",
      "std                   0.432247               0.718839            0.839888   \n",
      "min                   0.000000               0.000000            0.000000   \n",
      "25%                   1.000000               0.000000            0.000000   \n",
      "50%                   1.000000               1.000000            1.000000   \n",
      "75%                   1.000000               1.000000            2.000000   \n",
      "max                   2.000000               2.000000            2.000000   \n",
      "\n",
      "       obs_consequence  \n",
      "count      1007.000000  \n",
      "mean          0.151936  \n",
      "std           0.359138  \n",
      "min           0.000000  \n",
      "25%           0.000000  \n",
      "50%           0.000000  \n",
      "75%           0.000000  \n",
      "max           1.000000  \n",
      "\n",
      "[8 rows x 23 columns]\n"
     ]
    }
   ],
   "source": [
    "# 📊 Eğitim veri setini yazdırma\n",
    "print(\"🔍 Eğitim Veri Seti (İlk 5 Satır):\")\n",
    "print(X_train.head())\n",
    "\n",
    "print(\"\\n📝 Eğitim Veri Seti Bilgisi:\")\n",
    "print(X_train.info())\n",
    "\n",
    "print(\"\\n📊 Eğitim Veri Seti İstatistikleri:\")\n",
    "print(X_train.describe(include='all'))"
   ]
  },
  {
   "cell_type": "markdown",
   "id": "ea9bef12",
   "metadata": {},
   "source": [
    "3. PCA ile boyut indirgeme"
   ]
  },
  {
   "cell_type": "code",
   "execution_count": 49,
   "id": "dd15358b",
   "metadata": {},
   "outputs": [
    {
     "data": {
      "image/png": "[encoded data removed]",
      "text/plain": [
       "<Figure size 800x500 with 1 Axes>"
      ]
     },
     "metadata": {},
     "output_type": "display_data"
    },
    {
     "name": "stdout",
     "output_type": "stream",
     "text": [
      "✅ %95 varyans oranı için bileşen sayısı: 20\n",
      "🔢 Azaltılmış boyut: 20\n"
     ]
    }
   ],
   "source": [
    "# 🔄 Veriyi ölçeklendirme\n",
    "scaler = StandardScaler()\n",
    "X_train_scaled = scaler.fit_transform(X_train)\n",
    "X_test_scaled = scaler.transform(X_test)\n",
    "\n",
    "# 🌟 PCA Uygulama (Tüm bileşenler)\n",
    "pca = PCA()\n",
    "X_train_pca = pca.fit_transform(X_train_scaled)\n",
    "X_test_pca = pca.transform(X_test_scaled)\n",
    "\n",
    "# 📊 Varyans Oranı Grafiği\n",
    "plt.figure(figsize=(8, 5))\n",
    "plt.plot(range(1, len(pca.explained_variance_ratio_) + 1), pca.explained_variance_ratio_.cumsum(), marker='o')\n",
    "plt.xlabel('Bileşen Sayısı')\n",
    "plt.ylabel('Açıklanan Varyans Oranı')\n",
    "plt.title('PCA: Açıklanan Varyans Oranı')\n",
    "plt.grid(True)\n",
    "plt.show()\n",
    "\n",
    "# 🌟 Bileşen sayısı seçme (örn: %95 varyans oranı)\n",
    "n_components = sum(pca.explained_variance_ratio_.cumsum() <= 0.95)\n",
    "print(f\"✅ %95 varyans oranı için bileşen sayısı: {n_components}\")\n",
    "\n",
    "# 🌟 Seçilen bileşen sayısı ile PCA uygulama\n",
    "pca_opt = PCA(n_components=n_components)\n",
    "X_train_pca_opt = pca_opt.fit_transform(X_train_scaled)\n",
    "X_test_pca_opt = pca_opt.transform(X_test_scaled)\n",
    "\n",
    "print(f\"🔢 Azaltılmış boyut: {X_train_pca_opt.shape[1]}\")"
   ]
  },
  {
   "cell_type": "code",
   "execution_count": 50,
   "id": "6f2a7b7a",
   "metadata": {},
   "outputs": [
    {
     "name": "stdout",
     "output_type": "stream",
     "text": [
      "✅ PCA sonrası veriler başarıyla kaydedildi. (Orijinal sütun isimleri korundu)\n"
     ]
    }
   ],
   "source": [
    "# 📊 PCA sonrası verileri DataFrame'e çevirme\n",
    "pca_train_df = pd.DataFrame(X_train_pca, columns=X_train.columns)  # Orijinal sütun isimleri\n",
    "pca_train_df[\"support_needed\"] = y_train.values  # ✅ doğru etiket\n",
    "\n",
    "pca_test_df = pd.DataFrame(X_test_pca, columns=X_test.columns)  # Orijinal sütun isimleri\n",
    "pca_test_df[\"support_needed\"] = y_test.values  # ✅ doğru etiket\n",
    "\n",
    "# 💾 CSV olarak kaydetme\n",
    "try:\n",
    "    pca_train_df.to_csv(\"pca/train_mental_pca.csv\", index=False)\n",
    "    pca_test_df.to_csv(\"pca/test_mental_pca.csv\", index=False)\n",
    "    print(\"✅ PCA sonrası veriler başarıyla kaydedildi. (Orijinal sütun isimleri korundu)\")\n",
    "except Exception as e:\n",
    "    print(f\"❌ Verileri kaydederken hata oluştu: {str(e)}\")"
   ]
  },
  {
   "cell_type": "markdown",
   "id": "009ec14d",
   "metadata": {},
   "source": []
  }
 ],
 "metadata": {
  "kernelspec": {
   "display_name": "base",
   "language": "python",
   "name": "python3"
  },
  "language_info": {
   "codemirror_mode": {
    "name": "ipython",
    "version": 3
   },
   "file_extension": ".py",
   "mimetype": "text/x-python",
   "name": "python",
   "nbconvert_exporter": "python",
   "pygments_lexer": "ipython3",
   "version": "3.11.11"
  }
 },
 "nbformat": 4,
 "nbformat_minor": 5
}
