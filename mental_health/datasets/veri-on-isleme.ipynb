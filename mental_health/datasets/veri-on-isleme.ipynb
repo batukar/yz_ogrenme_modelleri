{
 "cells": [
  {
   "cell_type": "markdown",
   "id": "66213252",
   "metadata": {},
   "source": [
    "1. Gerekli kütüphaneler"
   ]
  },
  {
   "cell_type": "code",
   "execution_count": 9,
   "id": "e42f2347",
   "metadata": {},
   "outputs": [],
   "source": [
    "# Gerekli kütüphaneler\n",
    "import pandas as pd\n",
    "import numpy as np\n",
    "from sklearn.preprocessing import LabelEncoder\n",
    "from sklearn.model_selection import train_test_split\n",
    "from sklearn.preprocessing import StandardScaler"
   ]
  },
  {
   "cell_type": "markdown",
   "id": "684925f9",
   "metadata": {},
   "source": [
    "2. Veriyi okuma"
   ]
  },
  {
   "cell_type": "code",
   "execution_count": 10,
   "id": "c738e9b8",
   "metadata": {},
   "outputs": [
    {
     "data": {
      "text/html": [
       "<div>\n",
       "<style scoped>\n",
       "    .dataframe tbody tr th:only-of-type {\n",
       "        vertical-align: middle;\n",
       "    }\n",
       "\n",
       "    .dataframe tbody tr th {\n",
       "        vertical-align: top;\n",
       "    }\n",
       "\n",
       "    .dataframe thead th {\n",
       "        text-align: right;\n",
       "    }\n",
       "</style>\n",
       "<table border=\"1\" class=\"dataframe\">\n",
       "  <thead>\n",
       "    <tr style=\"text-align: right;\">\n",
       "      <th></th>\n",
       "      <th>Timestamp</th>\n",
       "      <th>Age</th>\n",
       "      <th>Gender</th>\n",
       "      <th>Country</th>\n",
       "      <th>state</th>\n",
       "      <th>self_employed</th>\n",
       "      <th>family_history</th>\n",
       "      <th>treatment</th>\n",
       "      <th>work_interfere</th>\n",
       "      <th>no_employees</th>\n",
       "      <th>...</th>\n",
       "      <th>leave</th>\n",
       "      <th>mental_health_consequence</th>\n",
       "      <th>phys_health_consequence</th>\n",
       "      <th>coworkers</th>\n",
       "      <th>supervisor</th>\n",
       "      <th>mental_health_interview</th>\n",
       "      <th>phys_health_interview</th>\n",
       "      <th>mental_vs_physical</th>\n",
       "      <th>obs_consequence</th>\n",
       "      <th>comments</th>\n",
       "    </tr>\n",
       "  </thead>\n",
       "  <tbody>\n",
       "    <tr>\n",
       "      <th>0</th>\n",
       "      <td>2014-08-27 11:29:31</td>\n",
       "      <td>37</td>\n",
       "      <td>Female</td>\n",
       "      <td>United States</td>\n",
       "      <td>IL</td>\n",
       "      <td>NaN</td>\n",
       "      <td>No</td>\n",
       "      <td>Yes</td>\n",
       "      <td>Often</td>\n",
       "      <td>6-25</td>\n",
       "      <td>...</td>\n",
       "      <td>Somewhat easy</td>\n",
       "      <td>No</td>\n",
       "      <td>No</td>\n",
       "      <td>Some of them</td>\n",
       "      <td>Yes</td>\n",
       "      <td>No</td>\n",
       "      <td>Maybe</td>\n",
       "      <td>Yes</td>\n",
       "      <td>No</td>\n",
       "      <td>NaN</td>\n",
       "    </tr>\n",
       "    <tr>\n",
       "      <th>1</th>\n",
       "      <td>2014-08-27 11:29:37</td>\n",
       "      <td>44</td>\n",
       "      <td>Male</td>\n",
       "      <td>United States</td>\n",
       "      <td>IN</td>\n",
       "      <td>NaN</td>\n",
       "      <td>No</td>\n",
       "      <td>No</td>\n",
       "      <td>Rarely</td>\n",
       "      <td>More than 1000</td>\n",
       "      <td>...</td>\n",
       "      <td>Don't know</td>\n",
       "      <td>Maybe</td>\n",
       "      <td>No</td>\n",
       "      <td>No</td>\n",
       "      <td>No</td>\n",
       "      <td>No</td>\n",
       "      <td>No</td>\n",
       "      <td>Don't know</td>\n",
       "      <td>No</td>\n",
       "      <td>NaN</td>\n",
       "    </tr>\n",
       "    <tr>\n",
       "      <th>2</th>\n",
       "      <td>2014-08-27 11:29:44</td>\n",
       "      <td>32</td>\n",
       "      <td>Male</td>\n",
       "      <td>Canada</td>\n",
       "      <td>NaN</td>\n",
       "      <td>NaN</td>\n",
       "      <td>No</td>\n",
       "      <td>No</td>\n",
       "      <td>Rarely</td>\n",
       "      <td>6-25</td>\n",
       "      <td>...</td>\n",
       "      <td>Somewhat difficult</td>\n",
       "      <td>No</td>\n",
       "      <td>No</td>\n",
       "      <td>Yes</td>\n",
       "      <td>Yes</td>\n",
       "      <td>Yes</td>\n",
       "      <td>Yes</td>\n",
       "      <td>No</td>\n",
       "      <td>No</td>\n",
       "      <td>NaN</td>\n",
       "    </tr>\n",
       "    <tr>\n",
       "      <th>3</th>\n",
       "      <td>2014-08-27 11:29:46</td>\n",
       "      <td>31</td>\n",
       "      <td>Male</td>\n",
       "      <td>United Kingdom</td>\n",
       "      <td>NaN</td>\n",
       "      <td>NaN</td>\n",
       "      <td>Yes</td>\n",
       "      <td>Yes</td>\n",
       "      <td>Often</td>\n",
       "      <td>26-100</td>\n",
       "      <td>...</td>\n",
       "      <td>Somewhat difficult</td>\n",
       "      <td>Yes</td>\n",
       "      <td>Yes</td>\n",
       "      <td>Some of them</td>\n",
       "      <td>No</td>\n",
       "      <td>Maybe</td>\n",
       "      <td>Maybe</td>\n",
       "      <td>No</td>\n",
       "      <td>Yes</td>\n",
       "      <td>NaN</td>\n",
       "    </tr>\n",
       "    <tr>\n",
       "      <th>4</th>\n",
       "      <td>2014-08-27 11:30:22</td>\n",
       "      <td>31</td>\n",
       "      <td>Male</td>\n",
       "      <td>United States</td>\n",
       "      <td>TX</td>\n",
       "      <td>NaN</td>\n",
       "      <td>No</td>\n",
       "      <td>No</td>\n",
       "      <td>Never</td>\n",
       "      <td>100-500</td>\n",
       "      <td>...</td>\n",
       "      <td>Don't know</td>\n",
       "      <td>No</td>\n",
       "      <td>No</td>\n",
       "      <td>Some of them</td>\n",
       "      <td>Yes</td>\n",
       "      <td>Yes</td>\n",
       "      <td>Yes</td>\n",
       "      <td>Don't know</td>\n",
       "      <td>No</td>\n",
       "      <td>NaN</td>\n",
       "    </tr>\n",
       "  </tbody>\n",
       "</table>\n",
       "<p>5 rows × 27 columns</p>\n",
       "</div>"
      ],
      "text/plain": [
       "             Timestamp  Age  Gender         Country state self_employed  \\\n",
       "0  2014-08-27 11:29:31   37  Female   United States    IL           NaN   \n",
       "1  2014-08-27 11:29:37   44    Male   United States    IN           NaN   \n",
       "2  2014-08-27 11:29:44   32    Male          Canada   NaN           NaN   \n",
       "3  2014-08-27 11:29:46   31    Male  United Kingdom   NaN           NaN   \n",
       "4  2014-08-27 11:30:22   31    Male   United States    TX           NaN   \n",
       "\n",
       "  family_history treatment work_interfere    no_employees  ...  \\\n",
       "0             No       Yes          Often            6-25  ...   \n",
       "1             No        No         Rarely  More than 1000  ...   \n",
       "2             No        No         Rarely            6-25  ...   \n",
       "3            Yes       Yes          Often          26-100  ...   \n",
       "4             No        No          Never         100-500  ...   \n",
       "\n",
       "                leave mental_health_consequence phys_health_consequence  \\\n",
       "0       Somewhat easy                        No                      No   \n",
       "1          Don't know                     Maybe                      No   \n",
       "2  Somewhat difficult                        No                      No   \n",
       "3  Somewhat difficult                       Yes                     Yes   \n",
       "4          Don't know                        No                      No   \n",
       "\n",
       "      coworkers supervisor mental_health_interview phys_health_interview  \\\n",
       "0  Some of them        Yes                      No                 Maybe   \n",
       "1            No         No                      No                    No   \n",
       "2           Yes        Yes                     Yes                   Yes   \n",
       "3  Some of them         No                   Maybe                 Maybe   \n",
       "4  Some of them        Yes                     Yes                   Yes   \n",
       "\n",
       "  mental_vs_physical obs_consequence comments  \n",
       "0                Yes              No      NaN  \n",
       "1         Don't know              No      NaN  \n",
       "2                 No              No      NaN  \n",
       "3                 No             Yes      NaN  \n",
       "4         Don't know              No      NaN  \n",
       "\n",
       "[5 rows x 27 columns]"
      ]
     },
     "execution_count": 10,
     "metadata": {},
     "output_type": "execute_result"
    }
   ],
   "source": [
    "# Veri yolu\n",
    "file_path = \"survey.csv\"\n",
    "\n",
    "# Veriyi oku\n",
    "df = pd.read_csv(file_path)\n",
    "\n",
    "# İlk birkaç satıra göz at\n",
    "df.head()"
   ]
  },
  {
   "cell_type": "markdown",
   "id": "6151f76d",
   "metadata": {},
   "source": [
    "3. Veri kontrolü"
   ]
  },
  {
   "cell_type": "code",
   "execution_count": 11,
   "id": "313553c2",
   "metadata": {},
   "outputs": [
    {
     "name": "stdout",
     "output_type": "stream",
     "text": [
      "🔢 Sütun Sayısı: 27\n",
      "\n",
      "📋 Eksik Veri Dağılımı:\n",
      "comments                     1095\n",
      "state                         515\n",
      "work_interfere                264\n",
      "self_employed                  18\n",
      "seek_help                       0\n",
      "obs_consequence                 0\n",
      "mental_vs_physical              0\n",
      "phys_health_interview           0\n",
      "mental_health_interview         0\n",
      "supervisor                      0\n",
      "coworkers                       0\n",
      "phys_health_consequence         0\n",
      "mental_health_consequence       0\n",
      "leave                           0\n",
      "anonymity                       0\n",
      "Timestamp                       0\n",
      "wellness_program                0\n",
      "Age                             0\n",
      "benefits                        0\n",
      "tech_company                    0\n",
      "remote_work                     0\n",
      "no_employees                    0\n",
      "treatment                       0\n",
      "family_history                  0\n",
      "Country                         0\n",
      "Gender                          0\n",
      "care_options                    0\n",
      "dtype: int64\n",
      "\n",
      "🎂 Yaş Aralığı: -1726 – 99999999999\n"
     ]
    }
   ],
   "source": [
    "# Sütun bilgisi\n",
    "print(\"🔢 Sütun Sayısı:\", df.shape[1])\n",
    "print(\"\\n📋 Eksik Veri Dağılımı:\")\n",
    "print(df.isnull().sum().sort_values(ascending=False))\n",
    "\n",
    "# Yaş sınırlarını da kontrol edelim\n",
    "print(\"\\n🎂 Yaş Aralığı:\", df['Age'].min(), \"–\", df['Age'].max())"
   ]
  },
  {
   "cell_type": "markdown",
   "id": "fcfb218f",
   "metadata": {},
   "source": [
    "4. Veri temizliği"
   ]
  },
  {
   "cell_type": "code",
   "execution_count": 12,
   "id": "4f7df876",
   "metadata": {},
   "outputs": [
    {
     "name": "stdout",
     "output_type": "stream",
     "text": [
      "🧹 Yeni veri şekli: (1251, 24)\n"
     ]
    }
   ],
   "source": [
    "# 1️⃣ Gereksiz sütunları sil\n",
    "df.drop(columns=[\"Timestamp\", \"comments\", \"state\"], inplace=True)\n",
    "\n",
    "# 2️⃣ Geçersiz yaşları filtrele\n",
    "df = df[(df[\"Age\"] >= 15) & (df[\"Age\"] <= 80)]\n",
    "\n",
    "# 3️⃣ Son kontrol\n",
    "print(\"🧹 Yeni veri şekli:\", df.shape)"
   ]
  },
  {
   "cell_type": "markdown",
   "id": "df6ca200",
   "metadata": {},
   "source": [
    "5. Eksik veri doldurma"
   ]
  },
  {
   "cell_type": "code",
   "execution_count": 13,
   "id": "e3d23a0b",
   "metadata": {},
   "outputs": [
    {
     "name": "stdout",
     "output_type": "stream",
     "text": [
      "✅ Kalan eksik değer sayısı: 0\n"
     ]
    },
    {
     "name": "stderr",
     "output_type": "stream",
     "text": [
      "/var/folders/dm/hckhrzb5207cp2xy2c6ts38c0000gn/T/ipykernel_19644/988773537.py:2: FutureWarning: A value is trying to be set on a copy of a DataFrame or Series through chained assignment using an inplace method.\n",
      "The behavior will change in pandas 3.0. This inplace method will never work because the intermediate object on which we are setting values always behaves as a copy.\n",
      "\n",
      "For example, when doing 'df[col].method(value, inplace=True)', try using 'df.method({col: value}, inplace=True)' or df[col] = df[col].method(value) instead, to perform the operation inplace on the original object.\n",
      "\n",
      "\n",
      "  df[\"self_employed\"].fillna(\"No\", inplace=True)\n",
      "/var/folders/dm/hckhrzb5207cp2xy2c6ts38c0000gn/T/ipykernel_19644/988773537.py:5: FutureWarning: A value is trying to be set on a copy of a DataFrame or Series through chained assignment using an inplace method.\n",
      "The behavior will change in pandas 3.0. This inplace method will never work because the intermediate object on which we are setting values always behaves as a copy.\n",
      "\n",
      "For example, when doing 'df[col].method(value, inplace=True)', try using 'df.method({col: value}, inplace=True)' or df[col] = df[col].method(value) instead, to perform the operation inplace on the original object.\n",
      "\n",
      "\n",
      "  df[\"work_interfere\"].fillna(\"Don’t know\", inplace=True)\n"
     ]
    }
   ],
   "source": [
    "# 1️⃣ 'self_employed' sütunu (çoğunlukla 'No' olduğu varsayımı)\n",
    "df[\"self_employed\"].fillna(\"No\", inplace=True)\n",
    "\n",
    "# 2️⃣ 'work_interfere' sütunu için eksik değerleri 'Don’t know' ile doldur\n",
    "df[\"work_interfere\"].fillna(\"Don’t know\", inplace=True)\n",
    "\n",
    "# Kontrol\n",
    "print(\"✅ Kalan eksik değer sayısı:\", df.isnull().sum().sum())"
   ]
  },
  {
   "cell_type": "markdown",
   "id": "f1e95168",
   "metadata": {},
   "source": [
    "6. Encoding"
   ]
  },
  {
   "cell_type": "code",
   "execution_count": 14,
   "id": "9b01e179",
   "metadata": {},
   "outputs": [
    {
     "name": "stdout",
     "output_type": "stream",
     "text": [
      "✅ X şekli: (1251, 23)\n",
      "✅ y sınıfları: [0 1]\n"
     ]
    }
   ],
   "source": [
    "# Hedef değişkeni ayır\n",
    "y = df[\"treatment\"]\n",
    "\n",
    "# Geri kalanları özellik olarak al\n",
    "X = df.drop(\"treatment\", axis=1)\n",
    "\n",
    "# Tüm kategorik sütunları LabelEncoder ile encode et\n",
    "for col in X.columns:\n",
    "    if X[col].dtype == 'object':\n",
    "        le = LabelEncoder()\n",
    "        X[col] = le.fit_transform(X[col])\n",
    "\n",
    "# Hedef değişkeni de encode et\n",
    "y = LabelEncoder().fit_transform(y)\n",
    "\n",
    "# Kontrol\n",
    "print(\"✅ X şekli:\", X.shape)\n",
    "print(\"✅ y sınıfları:\", np.unique(y))"
   ]
  },
  {
   "cell_type": "markdown",
   "id": "88b53c7a",
   "metadata": {},
   "source": [
    "7. Train ve test olarak ayırma"
   ]
  },
  {
   "cell_type": "code",
   "execution_count": 15,
   "id": "918de865",
   "metadata": {},
   "outputs": [
    {
     "name": "stdout",
     "output_type": "stream",
     "text": [
      "✅ Eğitim şekli: (1000, 23)\n",
      "✅ Test şekli: (251, 23)\n"
     ]
    }
   ],
   "source": [
    "# 1️⃣ Eğitim/Test ayrımı\n",
    "X_train, X_test, y_train, y_test = train_test_split(\n",
    "    X, y, test_size=0.2, random_state=42, stratify=y)\n",
    "\n",
    "# 2️⃣ StandardScaler ile ölçekle\n",
    "scaler = StandardScaler()\n",
    "X_train_scaled = scaler.fit_transform(X_train)\n",
    "X_test_scaled = scaler.transform(X_test)\n",
    "\n",
    "# Kontrol\n",
    "print(\"✅ Eğitim şekli:\", X_train_scaled.shape)\n",
    "print(\"✅ Test şekli:\", X_test_scaled.shape)"
   ]
  },
  {
   "cell_type": "markdown",
   "id": "79b5f913",
   "metadata": {},
   "source": [
    "8. Ön işlenmiş setlerini kaydetme"
   ]
  },
  {
   "cell_type": "code",
   "execution_count": 16,
   "id": "575aa76c",
   "metadata": {},
   "outputs": [
    {
     "name": "stdout",
     "output_type": "stream",
     "text": [
      "✅ Veriler başarıyla kaydedildi.\n"
     ]
    }
   ],
   "source": [
    "# Pandas DataFrame'e geri dönüştür\n",
    "train_df = pd.DataFrame(X_train_scaled, columns=X.columns)\n",
    "train_df[\"treatment\"] = y_train\n",
    "\n",
    "test_df = pd.DataFrame(X_test_scaled, columns=X.columns)\n",
    "test_df[\"treatment\"] = y_test\n",
    "\n",
    "# CSV olarak kaydet\n",
    "train_df.to_csv(\"normal/train_mental.csv\", index=False)\n",
    "test_df.to_csv(\"normal/test_mental.csv\", index=False)\n",
    "\n",
    "print(\"✅ Veriler başarıyla kaydedildi.\")"
   ]
  },
  {
   "cell_type": "markdown",
   "id": "7a7396b6",
   "metadata": {},
   "source": []
  }
 ],
 "metadata": {
  "kernelspec": {
   "display_name": "base",
   "language": "python",
   "name": "python3"
  },
  "language_info": {
   "codemirror_mode": {
    "name": "ipython",
    "version": 3
   },
   "file_extension": ".py",
   "mimetype": "text/x-python",
   "name": "python",
   "nbconvert_exporter": "python",
   "pygments_lexer": "ipython3",
   "version": "3.11.11"
  }
 },
 "nbformat": 4,
 "nbformat_minor": 5
}
