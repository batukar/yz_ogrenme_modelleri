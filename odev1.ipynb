{
 "cells": [
  {
   "cell_type": "code",
   "execution_count": 35,
   "metadata": {},
   "outputs": [
    {
     "name": "stdout",
     "output_type": "stream",
     "text": [
      "Karışıklık Matrisi:\n",
      "    A   B   C   D\n",
      "A  50   5   3   4\n",
      "B   3  40   5   2\n",
      "C   3   3  36   5\n",
      "D   2   2   2  61\n"
     ]
    }
   ],
   "source": [
    "import numpy as np\n",
    "import pandas as pd\n",
    "\n",
    "# Karmaşıklık matrisi verileri\n",
    "conf_matrix = np.array([\n",
    "    [50, 5, 3, 4],  # Sınıf A tahmini\n",
    "    [3, 40, 5, 2],  # Sınıf B tahmini\n",
    "    [3, 3, 36, 5],  # Sınıf C tahmini\n",
    "    [2, 2, 2, 61]   # Sınıf D tahmini\n",
    "])\n",
    "\n",
    "# Karmaşıklık matrisi df\n",
    "conf_matrix_df = pd.DataFrame(conf_matrix, index=['A', 'B', 'C', 'D'], columns=['A', 'B', 'C', 'D'])\n",
    "\n",
    "print(\"Karışıklık Matrisi:\")\n",
    "print(conf_matrix_df)"
   ]
  },
  {
   "cell_type": "markdown",
   "metadata": {},
   "source": [
    "1. Doğruluk (Accuracy)"
   ]
  },
  {
   "cell_type": "code",
   "execution_count": 36,
   "metadata": {},
   "outputs": [
    {
     "name": "stdout",
     "output_type": "stream",
     "text": [
      "Accuracy (Doğruluk): 0.8274\n"
     ]
    }
   ],
   "source": [
    "# Doğru tahminler (True Positives, TP) toplamı\n",
    "true_positives = np.trace(conf_matrix)  # Köşegen toplamı\n",
    "\n",
    "# Toplam örnek sayısı\n",
    "total_samples = np.sum(conf_matrix)\n",
    "\n",
    "# Accuracy hesaplama\n",
    "accuracy = true_positives / total_samples\n",
    "\n",
    "print(f\"Accuracy (Doğruluk): {accuracy:.4f}\")"
   ]
  },
  {
   "cell_type": "markdown",
   "metadata": {},
   "source": [
    "2. Hassasiyet, Duyarlılık (Sensitivity, Recall)"
   ]
  },
  {
   "cell_type": "code",
   "execution_count": 37,
   "metadata": {},
   "outputs": [
    {
     "name": "stdout",
     "output_type": "stream",
     "text": [
      "Her Sınıf için Duyarlılık (Recall):\n",
      "  Class  Recall (Sensitivity)\n",
      "0     A              0.806452\n",
      "1     B              0.800000\n",
      "2     C              0.765957\n",
      "3     D              0.910448\n"
     ]
    }
   ],
   "source": [
    "# Her sınıf için recall hesaplama\n",
    "recall_per_class = np.diag(conf_matrix) / np.sum(conf_matrix, axis=1)\n",
    "\n",
    "# Her sınıf için recall değerleri\n",
    "recall_results = pd.DataFrame({\n",
    "    \"Class\": ['A', 'B', 'C', 'D'],\n",
    "    \"Recall (Sensitivity)\": recall_per_class\n",
    "})\n",
    "\n",
    "print(\"Her Sınıf için Duyarlılık (Recall):\")\n",
    "print(recall_results)"
   ]
  },
  {
   "cell_type": "markdown",
   "metadata": {},
   "source": [
    "3. Kesinlik (Precision)"
   ]
  },
  {
   "cell_type": "code",
   "execution_count": 38,
   "metadata": {},
   "outputs": [
    {
     "name": "stdout",
     "output_type": "stream",
     "text": [
      "Her Sınıf için Kesinlik (Precision):\n",
      "  Class  Precision\n",
      "0     A   0.862069\n",
      "1     B   0.800000\n",
      "2     C   0.782609\n",
      "3     D   0.847222\n"
     ]
    }
   ],
   "source": [
    "# Her sınıf için precision hesaplama\n",
    "precision_per_class = np.diag(conf_matrix) / np.sum(conf_matrix, axis=0)\n",
    "\n",
    "# Her sınıf için precision değerleri\n",
    "precision_results = pd.DataFrame({\n",
    "    \"Class\": ['A', 'B', 'C', 'D'],\n",
    "    \"Precision\": precision_per_class\n",
    "})\n",
    "\n",
    "print(\"Her Sınıf için Kesinlik (Precision):\")\n",
    "print(precision_results)"
   ]
  },
  {
   "cell_type": "markdown",
   "metadata": {},
   "source": [
    "4. Özgüllük (Specificity)"
   ]
  },
  {
   "cell_type": "code",
   "execution_count": 39,
   "metadata": {},
   "outputs": [
    {
     "name": "stdout",
     "output_type": "stream",
     "text": [
      "Her Sınıf için Specificity (Özgüllük) Değerleri:\n",
      "  Class  Specificity\n",
      "0     A     0.944828\n",
      "1     B     0.936306\n",
      "2     C     0.937888\n",
      "3     D     0.919708\n"
     ]
    }
   ],
   "source": [
    "# Specificity (Özgüllük) değerlerini hesapla\n",
    "specificity_results = []\n",
    "classes = ['A', 'B', 'C', 'D']\n",
    "total_samples = np.sum(conf_matrix)\n",
    "\n",
    "for i, cls in enumerate(classes):\n",
    "    tp = conf_matrix[i, i]  # True Positive\n",
    "    fp = np.sum(conf_matrix[:, i]) - tp  # False Positive\n",
    "    fn = np.sum(conf_matrix[i, :]) - tp  # False Negative\n",
    "    \n",
    "    # Doğru True Negative (TN) hesaplama\n",
    "    #tn = total_samples - (tp + fp + fn)\n",
    "    tn = np.sum(np.diag(conf_matrix)) - tp  # Doğru formül\n",
    "    \n",
    "    specificity = tn / (tn + fp)\n",
    "    specificity_results.append(specificity)\n",
    "\n",
    "# Specificity sonuçlarını tablo şeklinde göster\n",
    "specificity_results_df = pd.DataFrame({\n",
    "    \"Class\": classes,\n",
    "    \"Specificity\": specificity_results\n",
    "})\n",
    "\n",
    "print(\"Her Sınıf için Specificity (Özgüllük) Değerleri:\")\n",
    "print(specificity_results_df)"
   ]
  },
  {
   "cell_type": "markdown",
   "metadata": {},
   "source": [
    "5. F1 Skoru (F1 Score)"
   ]
  },
  {
   "cell_type": "code",
   "execution_count": 40,
   "metadata": {},
   "outputs": [
    {
     "name": "stdout",
     "output_type": "stream",
     "text": [
      "Her Sınıf için F1 Skoru:\n",
      "  Class  F1 Score\n",
      "0     A  0.833333\n",
      "1     B  0.800000\n",
      "2     C  0.774194\n",
      "3     D  0.877698\n"
     ]
    }
   ],
   "source": [
    "# Her sınıf için F1 skoru hesaplama\n",
    "f1_score_per_class = 2 * (precision_per_class * recall_per_class) / (precision_per_class + recall_per_class)\n",
    "\n",
    "# Her sınıf için F1 skorları\n",
    "f1_score_results = pd.DataFrame({\n",
    "    \"Class\": ['A', 'B', 'C', 'D'],\n",
    "    \"F1 Score\": f1_score_per_class\n",
    "})\n",
    "\n",
    "# Sonuçları yazdırma\n",
    "print(\"Her Sınıf için F1 Skoru:\")\n",
    "print(f1_score_results)"
   ]
  },
  {
   "cell_type": "code",
   "execution_count": null,
   "metadata": {},
   "outputs": [],
   "source": []
  }
 ],
 "metadata": {
  "kernelspec": {
   "display_name": "base",
   "language": "python",
   "name": "python3"
  },
  "language_info": {
   "codemirror_mode": {
    "name": "ipython",
    "version": 3
   },
   "file_extension": ".py",
   "mimetype": "text/x-python",
   "name": "python",
   "nbconvert_exporter": "python",
   "pygments_lexer": "ipython3",
   "version": "3.11.11"
  }
 },
 "nbformat": 4,
 "nbformat_minor": 2
}
