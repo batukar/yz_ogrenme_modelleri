{
 "cells": [
  {
   "cell_type": "markdown",
   "metadata": {},
   "source": [
    "1. Veri okuma\n",
    "\n",
    "Daha önce ön işleme adımlarından geçirilen veri yüklendi."
   ]
  },
  {
   "cell_type": "code",
   "execution_count": 2,
   "metadata": {},
   "outputs": [
    {
     "data": {
      "text/html": [
       "<div>\n",
       "<style scoped>\n",
       "    .dataframe tbody tr th:only-of-type {\n",
       "        vertical-align: middle;\n",
       "    }\n",
       "\n",
       "    .dataframe tbody tr th {\n",
       "        vertical-align: top;\n",
       "    }\n",
       "\n",
       "    .dataframe thead th {\n",
       "        text-align: right;\n",
       "    }\n",
       "</style>\n",
       "<table border=\"1\" class=\"dataframe\">\n",
       "  <thead>\n",
       "    <tr style=\"text-align: right;\">\n",
       "      <th></th>\n",
       "      <th>Age</th>\n",
       "      <th>Gender</th>\n",
       "      <th>Country</th>\n",
       "      <th>Ethnicity</th>\n",
       "      <th>Family_History</th>\n",
       "      <th>Radiation_Exposure</th>\n",
       "      <th>Iodine_Deficiency</th>\n",
       "      <th>Smoking</th>\n",
       "      <th>Obesity</th>\n",
       "      <th>Diabetes</th>\n",
       "      <th>TSH_Level</th>\n",
       "      <th>T3_Level</th>\n",
       "      <th>T4_Level</th>\n",
       "      <th>Nodule_Size</th>\n",
       "      <th>Thyroid_Cancer_Risk</th>\n",
       "      <th>Diagnosis</th>\n",
       "    </tr>\n",
       "  </thead>\n",
       "  <tbody>\n",
       "    <tr>\n",
       "      <th>0</th>\n",
       "      <td>0.656629</td>\n",
       "      <td>1.400955</td>\n",
       "      <td>0.900878</td>\n",
       "      <td>0.381020</td>\n",
       "      <td>-0.645251</td>\n",
       "      <td>2.635169</td>\n",
       "      <td>-0.543565</td>\n",
       "      <td>-0.422706</td>\n",
       "      <td>-0.565731</td>\n",
       "      <td>-0.423159</td>\n",
       "      <td>1.521284</td>\n",
       "      <td>-0.393303</td>\n",
       "      <td>-0.974551</td>\n",
       "      <td>-0.998840</td>\n",
       "      <td>0.025416</td>\n",
       "      <td>0</td>\n",
       "    </tr>\n",
       "    <tr>\n",
       "      <th>1</th>\n",
       "      <td>-1.054325</td>\n",
       "      <td>1.400955</td>\n",
       "      <td>-0.699600</td>\n",
       "      <td>1.218197</td>\n",
       "      <td>-0.645251</td>\n",
       "      <td>2.635169</td>\n",
       "      <td>-0.543565</td>\n",
       "      <td>-0.422706</td>\n",
       "      <td>-0.565731</td>\n",
       "      <td>-0.423159</td>\n",
       "      <td>-1.128017</td>\n",
       "      <td>-0.321735</td>\n",
       "      <td>1.065424</td>\n",
       "      <td>1.089735</td>\n",
       "      <td>0.025416</td>\n",
       "      <td>0</td>\n",
       "    </tr>\n",
       "    <tr>\n",
       "      <th>2</th>\n",
       "      <td>1.581469</td>\n",
       "      <td>1.400955</td>\n",
       "      <td>0.500759</td>\n",
       "      <td>0.381020</td>\n",
       "      <td>-0.645251</td>\n",
       "      <td>-0.379482</td>\n",
       "      <td>-0.543565</td>\n",
       "      <td>-0.422706</td>\n",
       "      <td>-0.565731</td>\n",
       "      <td>-0.423159</td>\n",
       "      <td>0.428535</td>\n",
       "      <td>0.704061</td>\n",
       "      <td>1.079396</td>\n",
       "      <td>1.483541</td>\n",
       "      <td>0.025416</td>\n",
       "      <td>0</td>\n",
       "    </tr>\n",
       "    <tr>\n",
       "      <th>3</th>\n",
       "      <td>1.072807</td>\n",
       "      <td>-0.713799</td>\n",
       "      <td>-0.299480</td>\n",
       "      <td>-0.456157</td>\n",
       "      <td>-0.645251</td>\n",
       "      <td>-0.379482</td>\n",
       "      <td>-0.543565</td>\n",
       "      <td>-0.422706</td>\n",
       "      <td>-0.565731</td>\n",
       "      <td>-0.423159</td>\n",
       "      <td>-0.330416</td>\n",
       "      <td>0.739844</td>\n",
       "      <td>1.298298</td>\n",
       "      <td>-0.028391</td>\n",
       "      <td>1.380655</td>\n",
       "      <td>0</td>\n",
       "    </tr>\n",
       "    <tr>\n",
       "      <th>4</th>\n",
       "      <td>-0.776873</td>\n",
       "      <td>-0.713799</td>\n",
       "      <td>-0.699600</td>\n",
       "      <td>-1.293334</td>\n",
       "      <td>1.549784</td>\n",
       "      <td>2.635169</td>\n",
       "      <td>-0.543565</td>\n",
       "      <td>-0.422706</td>\n",
       "      <td>-0.565731</td>\n",
       "      <td>-0.423159</td>\n",
       "      <td>1.426415</td>\n",
       "      <td>0.131523</td>\n",
       "      <td>1.144601</td>\n",
       "      <td>-0.274519</td>\n",
       "      <td>-1.329824</td>\n",
       "      <td>0</td>\n",
       "    </tr>\n",
       "  </tbody>\n",
       "</table>\n",
       "</div>"
      ],
      "text/plain": [
       "        Age    Gender   Country  Ethnicity  Family_History  \\\n",
       "0  0.656629  1.400955  0.900878   0.381020       -0.645251   \n",
       "1 -1.054325  1.400955 -0.699600   1.218197       -0.645251   \n",
       "2  1.581469  1.400955  0.500759   0.381020       -0.645251   \n",
       "3  1.072807 -0.713799 -0.299480  -0.456157       -0.645251   \n",
       "4 -0.776873 -0.713799 -0.699600  -1.293334        1.549784   \n",
       "\n",
       "   Radiation_Exposure  Iodine_Deficiency   Smoking   Obesity  Diabetes  \\\n",
       "0            2.635169          -0.543565 -0.422706 -0.565731 -0.423159   \n",
       "1            2.635169          -0.543565 -0.422706 -0.565731 -0.423159   \n",
       "2           -0.379482          -0.543565 -0.422706 -0.565731 -0.423159   \n",
       "3           -0.379482          -0.543565 -0.422706 -0.565731 -0.423159   \n",
       "4            2.635169          -0.543565 -0.422706 -0.565731 -0.423159   \n",
       "\n",
       "   TSH_Level  T3_Level  T4_Level  Nodule_Size  Thyroid_Cancer_Risk  Diagnosis  \n",
       "0   1.521284 -0.393303 -0.974551    -0.998840             0.025416          0  \n",
       "1  -1.128017 -0.321735  1.065424     1.089735             0.025416          0  \n",
       "2   0.428535  0.704061  1.079396     1.483541             0.025416          0  \n",
       "3  -0.330416  0.739844  1.298298    -0.028391             1.380655          0  \n",
       "4   1.426415  0.131523  1.144601    -0.274519            -1.329824          0  "
      ]
     },
     "execution_count": 2,
     "metadata": {},
     "output_type": "execute_result"
    }
   ],
   "source": [
    "import pandas as pd\n",
    "\n",
    "file_path = \"datasets/new_processed_thyroid_cancer_data.csv\"\n",
    "df = pd.read_csv(file_path)\n",
    "\n",
    "df.head()  # İlk birkaç satırı görüntüle"
   ]
  },
  {
   "cell_type": "markdown",
   "metadata": {},
   "source": [
    "2.2. Eğitim ve Test Veri Seti Ayrımı\n",
    "\n",
    "Bağımsız değişkenler (X) ve bağımlı değişken (y) olarak veri ayrıldı.\n",
    "Daha sonra veri eğitim ve test setlerine bölündü."
   ]
  },
  {
   "cell_type": "code",
   "execution_count": 3,
   "metadata": {},
   "outputs": [],
   "source": [
    "from sklearn.model_selection import train_test_split\n",
    "\n",
    "X = df.drop(columns=[\"Diagnosis\"])\n",
    "y = df[\"Diagnosis\"]\n",
    "\n",
    "X_train, X_test, y_train, y_test = train_test_split(X, y, test_size=0.2, random_state=42)"
   ]
  },
  {
   "cell_type": "markdown",
   "metadata": {},
   "source": [
    "2.3. Ölçeklendirme"
   ]
  },
  {
   "cell_type": "code",
   "execution_count": 4,
   "metadata": {},
   "outputs": [],
   "source": [
    "from sklearn.preprocessing import StandardScaler\n",
    "\n",
    "scaler = StandardScaler()\n",
    "X_train_scaled = scaler.fit_transform(X_train)\n",
    "X_test_scaled = scaler.transform(X_test)"
   ]
  },
  {
   "cell_type": "markdown",
   "metadata": {},
   "source": [
    "3. En iyi k ve mesafe değerini bulma ve performans metrikleri\n",
    "\n",
    "Farklı K değerleri ve mesafe metrikleri kullanarak modelin performansı ölçüldü.\n",
    "Her K ve metrik için doğruluk, özgünlük, duyarlılık, kesinlik ve F1 skorları hesaplandı.\n",
    "\n",
    "k-fold Cross Valitaion Uygulandı (K=5)"
   ]
  },
  {
   "cell_type": "code",
   "execution_count": 5,
   "metadata": {},
   "outputs": [],
   "source": [
    "from sklearn.model_selection import cross_val_score\n",
    "from sklearn.neighbors import KNeighborsClassifier\n",
    "import numpy as np\n",
    "from sklearn.metrics import make_scorer, recall_score, precision_score, confusion_matrix\n",
    "\n",
    "# K değerleri (sadece tek sayılar)\n",
    "k_values = [k for k in range(3, 22, 2)]\n",
    "distance_metrics = ['euclidean', 'manhattan', 'minkowski']\n",
    "cv_folds = 5  # 5-Katlı çapraz doğrulama\n",
    "\n",
    "results = []\n",
    "\n",
    "# Özgüllük (Specificity) metriğini manuel olarak tanımlıyoruz\n",
    "def specificity_score(y_true, y_pred):\n",
    "    tn, fp, fn, tp = confusion_matrix(y_true, y_pred).ravel()  # Hata buradaydı, `confusion_matrix` ekledik!\n",
    "    return tn / (tn + fp)\n",
    "\n",
    "specificity_scorer = make_scorer(specificity_score)\n",
    "\n",
    "for metric in distance_metrics:\n",
    "    for k in k_values:\n",
    "        knn = KNeighborsClassifier(n_neighbors=k, metric=metric)\n",
    "        \n",
    "        # Cross-validation ile metrikleri hesapla\n",
    "        accuracy_scores = cross_val_score(knn, X_train_scaled, y_train, cv=cv_folds, scoring='accuracy')\n",
    "        mean_accuracy = np.mean(accuracy_scores)\n",
    "\n",
    "        recall_scores = cross_val_score(knn, X_train_scaled, y_train, cv=cv_folds, scoring='recall')\n",
    "        mean_recall = np.mean(recall_scores)\n",
    "\n",
    "        precision_scores = cross_val_score(knn, X_train_scaled, y_train, cv=cv_folds, scoring='precision')\n",
    "        mean_precision = np.mean(precision_scores)\n",
    "\n",
    "        f1_scores = cross_val_score(knn, X_train_scaled, y_train, cv=cv_folds, scoring='f1')\n",
    "        mean_f1 = np.mean(f1_scores)\n",
    "\n",
    "        specificity_scores = cross_val_score(knn, X_train_scaled, y_train, cv=cv_folds, scoring=specificity_scorer)\n",
    "        mean_specificity = np.mean(specificity_scores)\n",
    "\n",
    "        results.append((k, metric, mean_accuracy, mean_f1, mean_recall, mean_precision, mean_specificity))\n",
    "\n",
    "# Sonuçları DataFrame olarak oluştur\n",
    "results_df = pd.DataFrame(results, columns=[\"K\", \"Metric\", \"Mean Accuracy\", \"Mean F1 Score\", \"Mean Recall\", \"Mean Precision\", \"Mean Specificity\"])\n",
    "\n",
    "# En iyi parametreleri belirleme (F1 skoruna göre)\n",
    "en_iyi_sonuc = results_df.sort_values(by=\"Mean F1 Score\", ascending=False).iloc[0]\n",
    "best_k = int(en_iyi_sonuc[\"K\"])\n",
    "best_metric = en_iyi_sonuc[\"Metric\"]"
   ]
  },
  {
   "cell_type": "markdown",
   "metadata": {},
   "source": [
    "3.2. K-Fold Cross Validation Sonrası Edinilen En İyi 10 Verinin Sıralanması"
   ]
  },
  {
   "cell_type": "code",
   "execution_count": 6,
   "metadata": {},
   "outputs": [
    {
     "data": {
      "text/html": [
       "<div>\n",
       "<style scoped>\n",
       "    .dataframe tbody tr th:only-of-type {\n",
       "        vertical-align: middle;\n",
       "    }\n",
       "\n",
       "    .dataframe tbody tr th {\n",
       "        vertical-align: top;\n",
       "    }\n",
       "\n",
       "    .dataframe thead th {\n",
       "        text-align: right;\n",
       "    }\n",
       "</style>\n",
       "<table border=\"1\" class=\"dataframe\">\n",
       "  <thead>\n",
       "    <tr style=\"text-align: right;\">\n",
       "      <th></th>\n",
       "      <th>K</th>\n",
       "      <th>Metric</th>\n",
       "      <th>Mean Accuracy</th>\n",
       "      <th>Mean F1 Score</th>\n",
       "      <th>Mean Recall</th>\n",
       "      <th>Mean Precision</th>\n",
       "      <th>Mean Specificity</th>\n",
       "    </tr>\n",
       "  </thead>\n",
       "  <tbody>\n",
       "    <tr>\n",
       "      <th>10</th>\n",
       "      <td>3</td>\n",
       "      <td>manhattan</td>\n",
       "      <td>0.761632</td>\n",
       "      <td>0.771262</td>\n",
       "      <td>0.803924</td>\n",
       "      <td>0.741151</td>\n",
       "      <td>0.719359</td>\n",
       "    </tr>\n",
       "    <tr>\n",
       "      <th>11</th>\n",
       "      <td>5</td>\n",
       "      <td>manhattan</td>\n",
       "      <td>0.763060</td>\n",
       "      <td>0.768867</td>\n",
       "      <td>0.788387</td>\n",
       "      <td>0.750295</td>\n",
       "      <td>0.737746</td>\n",
       "    </tr>\n",
       "    <tr>\n",
       "      <th>12</th>\n",
       "      <td>7</td>\n",
       "      <td>manhattan</td>\n",
       "      <td>0.763087</td>\n",
       "      <td>0.765987</td>\n",
       "      <td>0.775669</td>\n",
       "      <td>0.756546</td>\n",
       "      <td>0.750511</td>\n",
       "    </tr>\n",
       "    <tr>\n",
       "      <th>13</th>\n",
       "      <td>9</td>\n",
       "      <td>manhattan</td>\n",
       "      <td>0.762976</td>\n",
       "      <td>0.763719</td>\n",
       "      <td>0.766307</td>\n",
       "      <td>0.761151</td>\n",
       "      <td>0.759647</td>\n",
       "    </tr>\n",
       "    <tr>\n",
       "      <th>14</th>\n",
       "      <td>11</td>\n",
       "      <td>manhattan</td>\n",
       "      <td>0.762448</td>\n",
       "      <td>0.761706</td>\n",
       "      <td>0.759527</td>\n",
       "      <td>0.763904</td>\n",
       "      <td>0.765367</td>\n",
       "    </tr>\n",
       "    <tr>\n",
       "      <th>15</th>\n",
       "      <td>13</td>\n",
       "      <td>manhattan</td>\n",
       "      <td>0.762069</td>\n",
       "      <td>0.759904</td>\n",
       "      <td>0.753237</td>\n",
       "      <td>0.766694</td>\n",
       "      <td>0.770896</td>\n",
       "    </tr>\n",
       "    <tr>\n",
       "      <th>16</th>\n",
       "      <td>15</td>\n",
       "      <td>manhattan</td>\n",
       "      <td>0.761670</td>\n",
       "      <td>0.758365</td>\n",
       "      <td>0.748180</td>\n",
       "      <td>0.768836</td>\n",
       "      <td>0.775154</td>\n",
       "    </tr>\n",
       "    <tr>\n",
       "      <th>20</th>\n",
       "      <td>3</td>\n",
       "      <td>minkowski</td>\n",
       "      <td>0.749978</td>\n",
       "      <td>0.757718</td>\n",
       "      <td>0.782112</td>\n",
       "      <td>0.734801</td>\n",
       "      <td>0.717859</td>\n",
       "    </tr>\n",
       "    <tr>\n",
       "      <th>0</th>\n",
       "      <td>3</td>\n",
       "      <td>euclidean</td>\n",
       "      <td>0.749978</td>\n",
       "      <td>0.757718</td>\n",
       "      <td>0.782112</td>\n",
       "      <td>0.734801</td>\n",
       "      <td>0.717859</td>\n",
       "    </tr>\n",
       "    <tr>\n",
       "      <th>17</th>\n",
       "      <td>17</td>\n",
       "      <td>manhattan</td>\n",
       "      <td>0.761552</td>\n",
       "      <td>0.757231</td>\n",
       "      <td>0.743936</td>\n",
       "      <td>0.771014</td>\n",
       "      <td>0.779159</td>\n",
       "    </tr>\n",
       "  </tbody>\n",
       "</table>\n",
       "</div>"
      ],
      "text/plain": [
       "     K     Metric  Mean Accuracy  Mean F1 Score  Mean Recall  Mean Precision  \\\n",
       "10   3  manhattan       0.761632       0.771262     0.803924        0.741151   \n",
       "11   5  manhattan       0.763060       0.768867     0.788387        0.750295   \n",
       "12   7  manhattan       0.763087       0.765987     0.775669        0.756546   \n",
       "13   9  manhattan       0.762976       0.763719     0.766307        0.761151   \n",
       "14  11  manhattan       0.762448       0.761706     0.759527        0.763904   \n",
       "15  13  manhattan       0.762069       0.759904     0.753237        0.766694   \n",
       "16  15  manhattan       0.761670       0.758365     0.748180        0.768836   \n",
       "20   3  minkowski       0.749978       0.757718     0.782112        0.734801   \n",
       "0    3  euclidean       0.749978       0.757718     0.782112        0.734801   \n",
       "17  17  manhattan       0.761552       0.757231     0.743936        0.771014   \n",
       "\n",
       "    Mean Specificity  \n",
       "10          0.719359  \n",
       "11          0.737746  \n",
       "12          0.750511  \n",
       "13          0.759647  \n",
       "14          0.765367  \n",
       "15          0.770896  \n",
       "16          0.775154  \n",
       "20          0.717859  \n",
       "0           0.717859  \n",
       "17          0.779159  "
      ]
     },
     "metadata": {},
     "output_type": "display_data"
    },
    {
     "name": "stdout",
     "output_type": "stream",
     "text": [
      "Çapraz doğrulama sonrası en iyi sonuç: K=3, Mesafe Metrik=manhattan\n"
     ]
    }
   ],
   "source": [
    "from IPython.display import display\n",
    "display(results_df.sort_values(by=\"Mean F1 Score\", ascending=False).head(10))\n",
    "\n",
    "print(f\"Çapraz doğrulama sonrası en iyi sonuç: K={best_k}, Mesafe Metrik={best_metric}\")"
   ]
  },
  {
   "cell_type": "markdown",
   "metadata": {},
   "source": [
    "3.3. En iyi metriklerle eğitim\n",
    "\n",
    "Seçilen en iyi K ve mesafe metriği ile modeli tekrar eğitildi."
   ]
  },
  {
   "cell_type": "code",
   "execution_count": 7,
   "metadata": {},
   "outputs": [
    {
     "name": "stdout",
     "output_type": "stream",
     "text": [
      "Model en iyi parametrelerle eğitildi\n"
     ]
    }
   ],
   "source": [
    "knn_best = KNeighborsClassifier(n_neighbors=best_k, metric=best_metric)\n",
    "knn_best.fit(X_train_scaled, y_train)\n",
    "y_pred_best = knn_best.predict(X_test_scaled)\n",
    "\n",
    "print(f\"Model en iyi parametrelerle eğitildi\")"
   ]
  },
  {
   "cell_type": "markdown",
   "metadata": {},
   "source": [
    "4. Performans Metrikleri\n",
    "\n",
    "Seçilen en iyi modelin doğruluk, duyarlılık, kesinlik, özgünlük ve F1 skorları hesaplandı."
   ]
  },
  {
   "cell_type": "code",
   "execution_count": 8,
   "metadata": {},
   "outputs": [
    {
     "name": "stdout",
     "output_type": "stream",
     "text": [
      "En İyi Modelin Performans Metrikleri:\n",
      "Doğruluk (Accuracy): 0.7708\n",
      "Duyarlılık (Sensitivity / Recall): 0.8202\n",
      "Özgünlük (Specificity): 0.7213\n",
      "Kesinlik (Precision): 0.7467\n",
      "F1 Skoru: 0.7817\n"
     ]
    }
   ],
   "source": [
    "# Gerekli kütüphaneleri import et\n",
    "from sklearn.metrics import accuracy_score, recall_score, precision_score, f1_score, confusion_matrix\n",
    "\n",
    "# Performans metriklerini hesapla\n",
    "accuracy = accuracy_score(y_test, y_pred_best)\n",
    "recall = recall_score(y_test, y_pred_best)\n",
    "tn, fp, fn, tp = confusion_matrix(y_test, y_pred_best).ravel()\n",
    "specificity = tn / (tn + fp)\n",
    "precision = precision_score(y_test, y_pred_best)\n",
    "f1 = f1_score(y_test, y_pred_best)\n",
    "\n",
    "# Sonuçları ekrana yazdır\n",
    "print(f\"En İyi Modelin Performans Metrikleri:\")\n",
    "print(f\"Doğruluk (Accuracy): {accuracy:.4f}\")\n",
    "print(f\"Duyarlılık (Sensitivity / Recall): {recall:.4f}\")\n",
    "print(f\"Özgünlük (Specificity): {specificity:.4f}\")\n",
    "print(f\"Kesinlik (Precision): {precision:.4f}\")\n",
    "print(f\"F1 Skoru: {f1:.4f}\")"
   ]
  },
  {
   "cell_type": "markdown",
   "metadata": {},
   "source": [
    "4.1. ROC Eğrisi"
   ]
  },
  {
   "cell_type": "code",
   "execution_count": 13,
   "metadata": {},
   "outputs": [
    {
     "data": {
      "image/png": "[encoded data removed]",
      "text/plain": [
       "<Figure size 800x600 with 1 Axes>"
      ]
     },
     "metadata": {},
     "output_type": "display_data"
    }
   ],
   "source": [
    "import matplotlib.pyplot as plt\n",
    "from sklearn.metrics import roc_curve, auc\n",
    "from sklearn.neighbors import KNeighborsClassifier\n",
    "\n",
    "# Olasılık tahminlerini al\n",
    "y_prob = knn_best.predict_proba(X_test_scaled)[:, 1]  # Pozitif sınıfın olasılık değerleri\n",
    "\n",
    "# ROC Eğrisini Hesapla\n",
    "fpr, tpr, _ = roc_curve(y_test.astype(int), y_prob)  # Eğer y_test float veya object ise int'e çevir\n",
    "roc_auc = auc(fpr, tpr)\n",
    "\n",
    "# ROC Eğrisini Çizdir\n",
    "plt.figure(figsize=(8,6))\n",
    "plt.plot(fpr, tpr, color='blue', lw=2, label=f'ROC Eğrisi (AUC = {roc_auc:.4f})')\n",
    "plt.plot([0, 1], [0, 1], color='gray', linestyle='--')  # Rastgele tahmin çizgisi\n",
    "plt.xlim([0.0, 1.0])\n",
    "plt.ylim([0.0, 1.05])\n",
    "plt.xlabel('False Positive Rate (Yanlış Pozitif Oranı)')\n",
    "plt.ylabel('True Positive Rate (Doğru Pozitif Oranı)')\n",
    "plt.title('Receiver Operating Characteristic (ROC) Eğrisi')\n",
    "plt.legend(loc=\"lower right\")\n",
    "plt.show()"
   ]
  },
  {
   "cell_type": "markdown",
   "metadata": {},
   "source": [
    "4.2. Özellik Önem Sıralaması\n",
    "\n",
    "Random Forest modeli kullanarak özelliklerin model üzerindeki önem derecelerini belirlendi.\n",
    "Model eğitildikten sonra, en önemli 10 özellik grafik ile görselleştirildi."
   ]
  },
  {
   "cell_type": "code",
   "execution_count": 14,
   "metadata": {},
   "outputs": [
    {
     "data": {
      "image/png": "[encoded data removed]",
      "text/plain": [
       "<Figure size 640x480 with 1 Axes>"
      ]
     },
     "metadata": {},
     "output_type": "display_data"
    }
   ],
   "source": [
    "from sklearn.ensemble import RandomForestClassifier\n",
    "\n",
    "rf = RandomForestClassifier()\n",
    "rf.fit(X_train, y_train)\n",
    "feat_importances = pd.Series(rf.feature_importances_, index=X_train.columns)\n",
    "feat_importances.nlargest(10).plot(kind='barh')\n",
    "plt.title(\"Özellik Önem Sıralaması\")\n",
    "plt.show()\n"
   ]
  },
  {
   "cell_type": "code",
   "execution_count": null,
   "metadata": {},
   "outputs": [],
   "source": []
  }
 ],
 "metadata": {
  "kernelspec": {
   "display_name": "base",
   "language": "python",
   "name": "python3"
  },
  "language_info": {
   "codemirror_mode": {
    "name": "ipython",
    "version": 3
   },
   "file_extension": ".py",
   "mimetype": "text/x-python",
   "name": "python",
   "nbconvert_exporter": "python",
   "pygments_lexer": "ipython3",
   "version": "3.11.11"
  }
 },
 "nbformat": 4,
 "nbformat_minor": 2
}
