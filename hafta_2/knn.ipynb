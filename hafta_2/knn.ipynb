{
 "cells": [
  {
   "cell_type": "markdown",
   "metadata": {},
   "source": [
    "1. Veri okuma\n",
    "\n",
    "Daha önce ön işleme adımlarından geçirilen veri yüklendi."
   ]
  },
  {
   "cell_type": "code",
   "execution_count": 33,
   "metadata": {},
   "outputs": [
    {
     "data": {
      "text/html": [
       "<div>\n",
       "<style scoped>\n",
       "    .dataframe tbody tr th:only-of-type {\n",
       "        vertical-align: middle;\n",
       "    }\n",
       "\n",
       "    .dataframe tbody tr th {\n",
       "        vertical-align: top;\n",
       "    }\n",
       "\n",
       "    .dataframe thead th {\n",
       "        text-align: right;\n",
       "    }\n",
       "</style>\n",
       "<table border=\"1\" class=\"dataframe\">\n",
       "  <thead>\n",
       "    <tr style=\"text-align: right;\">\n",
       "      <th></th>\n",
       "      <th>Age</th>\n",
       "      <th>Gender</th>\n",
       "      <th>Country</th>\n",
       "      <th>Ethnicity</th>\n",
       "      <th>Family_History</th>\n",
       "      <th>Radiation_Exposure</th>\n",
       "      <th>Iodine_Deficiency</th>\n",
       "      <th>Smoking</th>\n",
       "      <th>Obesity</th>\n",
       "      <th>Diabetes</th>\n",
       "      <th>TSH_Level</th>\n",
       "      <th>T3_Level</th>\n",
       "      <th>T4_Level</th>\n",
       "      <th>Nodule_Size</th>\n",
       "      <th>Thyroid_Cancer_Risk</th>\n",
       "      <th>Diagnosis</th>\n",
       "    </tr>\n",
       "  </thead>\n",
       "  <tbody>\n",
       "    <tr>\n",
       "      <th>0</th>\n",
       "      <td>0.656629</td>\n",
       "      <td>1.400955</td>\n",
       "      <td>0.900878</td>\n",
       "      <td>0.381020</td>\n",
       "      <td>-0.645251</td>\n",
       "      <td>2.635169</td>\n",
       "      <td>-0.543565</td>\n",
       "      <td>-0.422706</td>\n",
       "      <td>-0.565731</td>\n",
       "      <td>-0.423159</td>\n",
       "      <td>1.521284</td>\n",
       "      <td>-0.393303</td>\n",
       "      <td>-0.974551</td>\n",
       "      <td>-0.998840</td>\n",
       "      <td>0.025416</td>\n",
       "      <td>0</td>\n",
       "    </tr>\n",
       "    <tr>\n",
       "      <th>1</th>\n",
       "      <td>-1.054325</td>\n",
       "      <td>1.400955</td>\n",
       "      <td>-0.699600</td>\n",
       "      <td>1.218197</td>\n",
       "      <td>-0.645251</td>\n",
       "      <td>2.635169</td>\n",
       "      <td>-0.543565</td>\n",
       "      <td>-0.422706</td>\n",
       "      <td>-0.565731</td>\n",
       "      <td>-0.423159</td>\n",
       "      <td>-1.128017</td>\n",
       "      <td>-0.321735</td>\n",
       "      <td>1.065424</td>\n",
       "      <td>1.089735</td>\n",
       "      <td>0.025416</td>\n",
       "      <td>0</td>\n",
       "    </tr>\n",
       "    <tr>\n",
       "      <th>2</th>\n",
       "      <td>1.581469</td>\n",
       "      <td>1.400955</td>\n",
       "      <td>0.500759</td>\n",
       "      <td>0.381020</td>\n",
       "      <td>-0.645251</td>\n",
       "      <td>-0.379482</td>\n",
       "      <td>-0.543565</td>\n",
       "      <td>-0.422706</td>\n",
       "      <td>-0.565731</td>\n",
       "      <td>-0.423159</td>\n",
       "      <td>0.428535</td>\n",
       "      <td>0.704061</td>\n",
       "      <td>1.079396</td>\n",
       "      <td>1.483541</td>\n",
       "      <td>0.025416</td>\n",
       "      <td>0</td>\n",
       "    </tr>\n",
       "    <tr>\n",
       "      <th>3</th>\n",
       "      <td>1.072807</td>\n",
       "      <td>-0.713799</td>\n",
       "      <td>-0.299480</td>\n",
       "      <td>-0.456157</td>\n",
       "      <td>-0.645251</td>\n",
       "      <td>-0.379482</td>\n",
       "      <td>-0.543565</td>\n",
       "      <td>-0.422706</td>\n",
       "      <td>-0.565731</td>\n",
       "      <td>-0.423159</td>\n",
       "      <td>-0.330416</td>\n",
       "      <td>0.739844</td>\n",
       "      <td>1.298298</td>\n",
       "      <td>-0.028391</td>\n",
       "      <td>1.380655</td>\n",
       "      <td>0</td>\n",
       "    </tr>\n",
       "    <tr>\n",
       "      <th>4</th>\n",
       "      <td>-0.776873</td>\n",
       "      <td>-0.713799</td>\n",
       "      <td>-0.699600</td>\n",
       "      <td>-1.293334</td>\n",
       "      <td>1.549784</td>\n",
       "      <td>2.635169</td>\n",
       "      <td>-0.543565</td>\n",
       "      <td>-0.422706</td>\n",
       "      <td>-0.565731</td>\n",
       "      <td>-0.423159</td>\n",
       "      <td>1.426415</td>\n",
       "      <td>0.131523</td>\n",
       "      <td>1.144601</td>\n",
       "      <td>-0.274519</td>\n",
       "      <td>-1.329824</td>\n",
       "      <td>0</td>\n",
       "    </tr>\n",
       "  </tbody>\n",
       "</table>\n",
       "</div>"
      ],
      "text/plain": [
       "        Age    Gender   Country  Ethnicity  Family_History  \\\n",
       "0  0.656629  1.400955  0.900878   0.381020       -0.645251   \n",
       "1 -1.054325  1.400955 -0.699600   1.218197       -0.645251   \n",
       "2  1.581469  1.400955  0.500759   0.381020       -0.645251   \n",
       "3  1.072807 -0.713799 -0.299480  -0.456157       -0.645251   \n",
       "4 -0.776873 -0.713799 -0.699600  -1.293334        1.549784   \n",
       "\n",
       "   Radiation_Exposure  Iodine_Deficiency   Smoking   Obesity  Diabetes  \\\n",
       "0            2.635169          -0.543565 -0.422706 -0.565731 -0.423159   \n",
       "1            2.635169          -0.543565 -0.422706 -0.565731 -0.423159   \n",
       "2           -0.379482          -0.543565 -0.422706 -0.565731 -0.423159   \n",
       "3           -0.379482          -0.543565 -0.422706 -0.565731 -0.423159   \n",
       "4            2.635169          -0.543565 -0.422706 -0.565731 -0.423159   \n",
       "\n",
       "   TSH_Level  T3_Level  T4_Level  Nodule_Size  Thyroid_Cancer_Risk  Diagnosis  \n",
       "0   1.521284 -0.393303 -0.974551    -0.998840             0.025416          0  \n",
       "1  -1.128017 -0.321735  1.065424     1.089735             0.025416          0  \n",
       "2   0.428535  0.704061  1.079396     1.483541             0.025416          0  \n",
       "3  -0.330416  0.739844  1.298298    -0.028391             1.380655          0  \n",
       "4   1.426415  0.131523  1.144601    -0.274519            -1.329824          0  "
      ]
     },
     "execution_count": 33,
     "metadata": {},
     "output_type": "execute_result"
    }
   ],
   "source": [
    "### 1️⃣ VERİYİ YÜKLEME VE TEMİZLEME\n",
    "import pandas as pd\n",
    "\n",
    "file_path = \"datasets/new_processed_thyroid_cancer_data.csv\"\n",
    "df = pd.read_csv(file_path)\n",
    "\n",
    "df.head()  # İlk birkaç satırı görüntüle"
   ]
  },
  {
   "cell_type": "markdown",
   "metadata": {},
   "source": [
    "2.2. Eğitim ve Test Veri Seti Ayrımı\n",
    "\n",
    "Bağımsız değişkenler (X) ve bağımlı değişken (y) olarak veri ayrıldı.\n",
    "Daha sonra veri eğitim ve test setlerine bölündü."
   ]
  },
  {
   "cell_type": "code",
   "execution_count": 48,
   "metadata": {},
   "outputs": [],
   "source": [
    "from sklearn.model_selection import train_test_split\n",
    "\n",
    "X = df.drop(columns=[\"Diagnosis\"])\n",
    "y = df[\"Diagnosis\"]\n",
    "\n",
    "X_train, X_test, y_train, y_test = train_test_split(X, y, test_size=0.2, random_state=42)"
   ]
  },
  {
   "cell_type": "markdown",
   "metadata": {},
   "source": [
    "2.3. Ölçeklendirme"
   ]
  },
  {
   "cell_type": "code",
   "execution_count": 49,
   "metadata": {},
   "outputs": [],
   "source": [
    "from sklearn.preprocessing import StandardScaler\n",
    "\n",
    "scaler = StandardScaler()\n",
    "X_train_scaled = scaler.fit_transform(X_train)\n",
    "X_test_scaled = scaler.transform(X_test)"
   ]
  },
  {
   "cell_type": "markdown",
   "metadata": {},
   "source": [
    "3. En iyi k ve mesafe değerini bulma ve performans metrikleri\n",
    "\n",
    "Farklı K değerleri ve mesafe metrikleri kullanarak modelin performansı ölçüldü.\n",
    "Her K ve metrik için doğruluk, özgünlük, duyarlılık, kesinlik ve F1 skorları hesaplandı."
   ]
  },
  {
   "cell_type": "code",
   "execution_count": 50,
   "metadata": {},
   "outputs": [],
   "source": [
    "from sklearn.neighbors import KNeighborsClassifier\n",
    "from sklearn.metrics import accuracy_score, precision_score, recall_score, f1_score, confusion_matrix\n",
    "\n",
    "k_values = range(1, 21)\n",
    "distance_metrics = ['euclidean', 'manhattan', 'minkowski']\n",
    "results = []\n",
    "\n",
    "for metric in distance_metrics:\n",
    "    for k in k_values:\n",
    "        knn = KNeighborsClassifier(n_neighbors=k, metric=metric)\n",
    "        knn.fit(X_train_scaled, y_train)\n",
    "        y_pred = knn.predict(X_test_scaled)\n",
    "        accuracy = accuracy_score(y_test, y_pred)\n",
    "        recall = recall_score(y_test, y_pred)\n",
    "        tn, fp, fn, tp = confusion_matrix(y_test, y_pred).ravel()\n",
    "        specificity = tn / (tn + fp)\n",
    "        precision = precision_score(y_test, y_pred)\n",
    "        f1 = f1_score(y_test, y_pred)\n",
    "        results.append((k, metric, accuracy, specificity, recall, precision, f1))\n",
    "\n",
    "# Sonuçları DataFrame olarak oluştur\n",
    "results_df = pd.DataFrame(results, columns=[\"K\", \"Metric\", \"Accuracy\", \"Specificity\", \"Recall\", \"Precision\", \"F1 Score\"])\n",
    "\n",
    "# En iyi parametreleri belirleme\n",
    "en_iyi_sonuc = results_df.sort_values(by=\"F1 Score\", ascending=False).iloc[0]\n",
    "best_k = int(en_iyi_sonuc[\"K\"])\n",
    "best_metric = en_iyi_sonuc[\"Metric\"]"
   ]
  },
  {
   "cell_type": "markdown",
   "metadata": {},
   "source": [
    "3.2. En İyi 10 k Değeri ve Uzaklık Parametrelerinden Elde Edilen Sonuçlar"
   ]
  },
  {
   "cell_type": "code",
   "execution_count": 51,
   "metadata": {},
   "outputs": [
    {
     "data": {
      "text/html": [
       "<div>\n",
       "<style scoped>\n",
       "    .dataframe tbody tr th:only-of-type {\n",
       "        vertical-align: middle;\n",
       "    }\n",
       "\n",
       "    .dataframe tbody tr th {\n",
       "        vertical-align: top;\n",
       "    }\n",
       "\n",
       "    .dataframe thead th {\n",
       "        text-align: right;\n",
       "    }\n",
       "</style>\n",
       "<table border=\"1\" class=\"dataframe\">\n",
       "  <thead>\n",
       "    <tr style=\"text-align: right;\">\n",
       "      <th></th>\n",
       "      <th>K</th>\n",
       "      <th>Metric</th>\n",
       "      <th>Accuracy</th>\n",
       "      <th>Specificity</th>\n",
       "      <th>Recall</th>\n",
       "      <th>Precision</th>\n",
       "      <th>F1 Score</th>\n",
       "    </tr>\n",
       "  </thead>\n",
       "  <tbody>\n",
       "    <tr>\n",
       "      <th>20</th>\n",
       "      <td>1</td>\n",
       "      <td>manhattan</td>\n",
       "      <td>0.768180</td>\n",
       "      <td>0.699377</td>\n",
       "      <td>0.836853</td>\n",
       "      <td>0.736074</td>\n",
       "      <td>0.783235</td>\n",
       "    </tr>\n",
       "    <tr>\n",
       "      <th>22</th>\n",
       "      <td>3</td>\n",
       "      <td>manhattan</td>\n",
       "      <td>0.770769</td>\n",
       "      <td>0.721273</td>\n",
       "      <td>0.820171</td>\n",
       "      <td>0.746712</td>\n",
       "      <td>0.781720</td>\n",
       "    </tr>\n",
       "    <tr>\n",
       "      <th>24</th>\n",
       "      <td>5</td>\n",
       "      <td>manhattan</td>\n",
       "      <td>0.768808</td>\n",
       "      <td>0.735134</td>\n",
       "      <td>0.802418</td>\n",
       "      <td>0.752181</td>\n",
       "      <td>0.776488</td>\n",
       "    </tr>\n",
       "    <tr>\n",
       "      <th>0</th>\n",
       "      <td>1</td>\n",
       "      <td>euclidean</td>\n",
       "      <td>0.758881</td>\n",
       "      <td>0.701432</td>\n",
       "      <td>0.816223</td>\n",
       "      <td>0.732542</td>\n",
       "      <td>0.772122</td>\n",
       "    </tr>\n",
       "    <tr>\n",
       "      <th>40</th>\n",
       "      <td>1</td>\n",
       "      <td>minkowski</td>\n",
       "      <td>0.758881</td>\n",
       "      <td>0.701432</td>\n",
       "      <td>0.816223</td>\n",
       "      <td>0.732542</td>\n",
       "      <td>0.772122</td>\n",
       "    </tr>\n",
       "    <tr>\n",
       "      <th>26</th>\n",
       "      <td>7</td>\n",
       "      <td>manhattan</td>\n",
       "      <td>0.767659</td>\n",
       "      <td>0.749272</td>\n",
       "      <td>0.786012</td>\n",
       "      <td>0.758499</td>\n",
       "      <td>0.772011</td>\n",
       "    </tr>\n",
       "    <tr>\n",
       "      <th>28</th>\n",
       "      <td>9</td>\n",
       "      <td>manhattan</td>\n",
       "      <td>0.765928</td>\n",
       "      <td>0.756540</td>\n",
       "      <td>0.775298</td>\n",
       "      <td>0.761362</td>\n",
       "      <td>0.768267</td>\n",
       "    </tr>\n",
       "    <tr>\n",
       "      <th>2</th>\n",
       "      <td>3</td>\n",
       "      <td>euclidean</td>\n",
       "      <td>0.758115</td>\n",
       "      <td>0.718973</td>\n",
       "      <td>0.797184</td>\n",
       "      <td>0.739718</td>\n",
       "      <td>0.767377</td>\n",
       "    </tr>\n",
       "    <tr>\n",
       "      <th>42</th>\n",
       "      <td>3</td>\n",
       "      <td>minkowski</td>\n",
       "      <td>0.758115</td>\n",
       "      <td>0.718973</td>\n",
       "      <td>0.797184</td>\n",
       "      <td>0.739718</td>\n",
       "      <td>0.767377</td>\n",
       "    </tr>\n",
       "    <tr>\n",
       "      <th>23</th>\n",
       "      <td>4</td>\n",
       "      <td>manhattan</td>\n",
       "      <td>0.775395</td>\n",
       "      <td>0.818363</td>\n",
       "      <td>0.732507</td>\n",
       "      <td>0.801601</td>\n",
       "      <td>0.765498</td>\n",
       "    </tr>\n",
       "  </tbody>\n",
       "</table>\n",
       "</div>"
      ],
      "text/plain": [
       "    K     Metric  Accuracy  Specificity    Recall  Precision  F1 Score\n",
       "20  1  manhattan  0.768180     0.699377  0.836853   0.736074  0.783235\n",
       "22  3  manhattan  0.770769     0.721273  0.820171   0.746712  0.781720\n",
       "24  5  manhattan  0.768808     0.735134  0.802418   0.752181  0.776488\n",
       "0   1  euclidean  0.758881     0.701432  0.816223   0.732542  0.772122\n",
       "40  1  minkowski  0.758881     0.701432  0.816223   0.732542  0.772122\n",
       "26  7  manhattan  0.767659     0.749272  0.786012   0.758499  0.772011\n",
       "28  9  manhattan  0.765928     0.756540  0.775298   0.761362  0.768267\n",
       "2   3  euclidean  0.758115     0.718973  0.797184   0.739718  0.767377\n",
       "42  3  minkowski  0.758115     0.718973  0.797184   0.739718  0.767377\n",
       "23  4  manhattan  0.775395     0.818363  0.732507   0.801601  0.765498"
      ]
     },
     "metadata": {},
     "output_type": "display_data"
    },
    {
     "name": "stdout",
     "output_type": "stream",
     "text": [
      "En iyi sonuç:\n",
      "K= 1,\n",
      "Mesafe Metriği= manhattan\n"
     ]
    }
   ],
   "source": [
    "from IPython.display import display\n",
    "\n",
    "display(results_df.sort_values(by=\"F1 Score\", ascending=False).head(10))\n",
    "\n",
    "print(f\"En iyi sonuç:\\nK= {best_k},\\nMesafe Metriği= {best_metric}\")"
   ]
  },
  {
   "cell_type": "markdown",
   "metadata": {},
   "source": [
    "3.2. En iyi metriklerle eğitim\n",
    "\n",
    "Seçilen en iyi K ve mesafe metriği ile modeli tekrar eğitildi."
   ]
  },
  {
   "cell_type": "code",
   "execution_count": 52,
   "metadata": {},
   "outputs": [
    {
     "name": "stdout",
     "output_type": "stream",
     "text": [
      "Model en iyi parametrelerle eğitildi\n"
     ]
    }
   ],
   "source": [
    "knn_best = KNeighborsClassifier(n_neighbors=best_k, metric=best_metric)\n",
    "knn_best.fit(X_train_scaled, y_train)\n",
    "y_pred_best = knn_best.predict(X_test_scaled)\n",
    "\n",
    "print(f\"Model en iyi parametrelerle eğitildi\")"
   ]
  },
  {
   "cell_type": "markdown",
   "metadata": {},
   "source": [
    "4. Performans Metrikleri\n",
    "\n",
    "Seçilen en iyi modelin doğruluk, duyarlılık, kesinlik, özgünlük ve F1 skorları hesaplandı."
   ]
  },
  {
   "cell_type": "code",
   "execution_count": 53,
   "metadata": {},
   "outputs": [
    {
     "name": "stdout",
     "output_type": "stream",
     "text": [
      "En İyi Modelin Performans Metrikleri:\n",
      "Doğruluk (Accuracy): 0.7682\n",
      "Duyarlılık (Sensitivity / Recall): 0.8369\n",
      "Özgünlük (Specificity): 0.6994\n",
      "Kesinlik (Precision): 0.7361\n",
      "F1 Skoru: 0.7832\n"
     ]
    }
   ],
   "source": [
    "accuracy = accuracy_score(y_test, y_pred_best)\n",
    "recall = recall_score(y_test, y_pred_best)\n",
    "tn, fp, fn, tp = confusion_matrix(y_test, y_pred_best).ravel()\n",
    "specificity = tn / (tn + fp)\n",
    "precision = precision_score(y_test, y_pred_best)\n",
    "f1 = f1_score(y_test, y_pred_best)\n",
    "\n",
    "print(f\"En İyi Modelin Performans Metrikleri:\")\n",
    "print(f\"Doğruluk (Accuracy): {accuracy:.4f}\")\n",
    "print(f\"Duyarlılık (Sensitivity / Recall): {recall:.4f}\")\n",
    "print(f\"Özgünlük (Specificity): {specificity:.4f}\")\n",
    "print(f\"Kesinlik (Precision): {precision:.4f}\")\n",
    "print(f\"F1 Skoru: {f1:.4f}\")"
   ]
  },
  {
   "cell_type": "markdown",
   "metadata": {},
   "source": [
    "4.1. ROC Eğrisi"
   ]
  },
  {
   "cell_type": "code",
   "execution_count": 55,
   "metadata": {},
   "outputs": [
    {
     "data": {
      "image/png": "[encoded data removed]",
      "text/plain": [
       "<Figure size 800x600 with 1 Axes>"
      ]
     },
     "metadata": {},
     "output_type": "display_data"
    }
   ],
   "source": [
    "import matplotlib.pyplot as plt\n",
    "from sklearn.metrics import roc_curve, auc\n",
    "\n",
    "y_prob = knn_best.predict_proba(X_test_scaled)[:, 1]  # Pozitif sınıfın olasılık değerleri\n",
    "\n",
    "fpr, tpr, _ = roc_curve(y_test, y_prob)\n",
    "roc_auc = auc(fpr, tpr)\n",
    "\n",
    "plt.figure(figsize=(8,6))\n",
    "plt.plot(fpr, tpr, color='blue', lw=2, label=f'ROC Eğrisi (AUC = {roc_auc:.4f})')\n",
    "plt.plot([0, 1], [0, 1], color='gray', linestyle='--')  # Rastgele tahmin çizgisi\n",
    "plt.xlim([0.0, 1.0])\n",
    "plt.ylim([0.0, 1.05])\n",
    "plt.xlabel('False Positive Rate (Yanlış Pozitif Oranı)')\n",
    "plt.ylabel('True Positive Rate (Doğru Pozitif Oranı)')\n",
    "plt.title('Receiver Operating Characteristic (ROC) Eğrisi')\n",
    "plt.legend(loc=\"lower right\")\n",
    "plt.show()"
   ]
  },
  {
   "cell_type": "markdown",
   "metadata": {},
   "source": [
    "4.2. Özellik Önem Sıralaması\n",
    "\n",
    "Random Forest modeli kullanarak özelliklerin model üzerindeki önem derecelerini belirlendi.\n",
    "Model eğitildikten sonra, en önemli 10 özellik grafik ile görselleştirildi."
   ]
  },
  {
   "cell_type": "code",
   "execution_count": 54,
   "metadata": {},
   "outputs": [
    {
     "data": {
      "image/png": "[encoded data removed]",
      "text/plain": [
       "<Figure size 640x480 with 1 Axes>"
      ]
     },
     "metadata": {},
     "output_type": "display_data"
    }
   ],
   "source": [
    "from sklearn.ensemble import RandomForestClassifier\n",
    "\n",
    "rf = RandomForestClassifier()\n",
    "rf.fit(X_train, y_train)\n",
    "feat_importances = pd.Series(rf.feature_importances_, index=X_train.columns)\n",
    "feat_importances.nlargest(10).plot(kind='barh')\n",
    "plt.title(\"Özellik Önem Sıralaması\")\n",
    "plt.show()\n"
   ]
  }
 ],
 "metadata": {
  "kernelspec": {
   "display_name": "base",
   "language": "python",
   "name": "python3"
  },
  "language_info": {
   "codemirror_mode": {
    "name": "ipython",
    "version": 3
   },
   "file_extension": ".py",
   "mimetype": "text/x-python",
   "name": "python",
   "nbconvert_exporter": "python",
   "pygments_lexer": "ipython3",
   "version": "3.11.11"
  }
 },
 "nbformat": 4,
 "nbformat_minor": 2
}
