{
 "cells": [
  {
   "cell_type": "markdown",
   "metadata": {},
   "source": [
    "1. Veri seti okuma"
   ]
  },
  {
   "cell_type": "code",
   "execution_count": 90,
   "metadata": {},
   "outputs": [
    {
     "name": "stdout",
     "output_type": "stream",
     "text": [
      "Age                           int64\n",
      "TSH_Level                     int64\n",
      "T3_Level                      int64\n",
      "T4_Level                      int64\n",
      "Nodule_Size                   int64\n",
      "Gender_Male                   int64\n",
      "Country_China                 int64\n",
      "Country_Germany               int64\n",
      "Country_India                 int64\n",
      "Country_Japan                 int64\n",
      "Country_Nigeria               int64\n",
      "Country_Russia                int64\n",
      "Country_South Korea           int64\n",
      "Country_UK                    int64\n",
      "Country_USA                   int64\n",
      "Ethnicity_Asian               int64\n",
      "Ethnicity_Caucasian           int64\n",
      "Ethnicity_Hispanic            int64\n",
      "Ethnicity_Middle Eastern      int64\n",
      "Family_History_Yes            int64\n",
      "Radiation_Exposure_Yes        int64\n",
      "Iodine_Deficiency_Yes         int64\n",
      "Smoking_Yes                   int64\n",
      "Obesity_Yes                   int64\n",
      "Diabetes_Yes                  int64\n",
      "Thyroid_Cancer_Risk_Low       int64\n",
      "Thyroid_Cancer_Risk_Medium    int64\n",
      "Diagnosis_Malignant           int64\n",
      "dtype: object\n"
     ]
    }
   ],
   "source": [
    "import pandas as pd\n",
    "\n",
    "# 1. Veriyi yükle\n",
    "df = pd.read_csv(\"datasets/thyroid_cancer_risk_data.csv\")\n",
    "\n",
    "# 2. Gereksiz sütunu kaldır\n",
    "df.drop(columns=[\"Patient_ID\"], inplace=True)\n",
    "\n",
    "# 3. One-Hot Encoding uygula\n",
    "df_encoded = pd.get_dummies(df, drop_first=True)\n",
    "\n",
    "# 4. Tüm bool sütunları 0/1 yap\n",
    "df_encoded = df_encoded.astype(int)\n",
    "\n",
    "# 5. Kontrol: Artık tüm sütunlar sayısal olmalı\n",
    "print(df_encoded.dtypes)\n",
    "\n",
    "# 6. Dosyayı kaydet\n",
    "df_encoded.to_csv(\"datasets/processed_thyroid_cancer_data.csv\", index=False)"
   ]
  },
  {
   "cell_type": "code",
   "execution_count": null,
   "metadata": {},
   "outputs": [],
   "source": []
  }
 ],
 "metadata": {
  "kernelspec": {
   "display_name": "base",
   "language": "python",
   "name": "python3"
  },
  "language_info": {
   "codemirror_mode": {
    "name": "ipython",
    "version": 3
   },
   "file_extension": ".py",
   "mimetype": "text/x-python",
   "name": "python",
   "nbconvert_exporter": "python",
   "pygments_lexer": "ipython3",
   "version": "3.11.11"
  }
 },
 "nbformat": 4,
 "nbformat_minor": 2
}
