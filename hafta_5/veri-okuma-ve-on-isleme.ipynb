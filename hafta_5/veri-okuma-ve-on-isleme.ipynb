{
 "cells": [
  {
   "cell_type": "markdown",
   "metadata": {},
   "source": [
    "1. Veri seti okuma"
   ]
  },
  {
   "cell_type": "code",
   "execution_count": 5,
   "metadata": {},
   "outputs": [],
   "source": [
    "import pandas as pd\n",
    "from sklearn.model_selection import train_test_split\n",
    "from sklearn.preprocessing import LabelEncoder, StandardScaler\n",
    "\n",
    "# 1. Veriyi oku\n",
    "df = pd.read_csv('datasets/thyroid_cancer_risk_data.csv')\n",
    "\n",
    "# 2. Eksik verileri kontrol et ve temizle\n",
    "df = df.dropna()\n",
    "\n",
    "# 3. Kategorik sütunları label encode et\n",
    "label_encoders = {}\n",
    "for column in df.select_dtypes(include=['object']).columns:\n",
    "    le = LabelEncoder()\n",
    "    df[column] = le.fit_transform(df[column])\n",
    "    label_encoders[column] = le\n",
    "\n",
    "# 4. Gerekirse ölçekleme (özellikle sayısal veriler için)\n",
    "scaler = StandardScaler()\n",
    "scaled_columns = df.drop('Diagnosis', axis=1).columns  # 'Thyroid_Cancer_Risk' hedef değişkenimiz\n",
    "df[scaled_columns] = scaler.fit_transform(df[scaled_columns])\n",
    "\n",
    "# 5. Özellik ve hedef ayırımı\n",
    "X = df.drop('Diagnosis', axis=1)\n",
    "y = df['Diagnosis']\n",
    "\n",
    "# 6. Eğitim ve test verisine ayırma\n",
    "X_train, X_test, y_train, y_test = train_test_split(X, y, test_size=0.2, random_state=42)\n",
    "\n",
    "X_train = X_train.drop('Patient_ID', axis=1)\n",
    "X_test = X_test.drop('Patient_ID', axis=1)\n",
    "\n",
    "# 7. Kaydetme (aynı klasöre)\n",
    "X_train.to_csv('datasets/X_train.csv', index=False)\n",
    "X_test.to_csv('datasets/X_test.csv', index=False)\n",
    "y_train.to_csv('datasets/y_train.csv', index=False)\n",
    "y_test.to_csv('datasets/y_test.csv', index=False)"
   ]
  },
  {
   "cell_type": "code",
   "execution_count": 6,
   "metadata": {},
   "outputs": [
    {
     "name": "stdout",
     "output_type": "stream",
     "text": [
      "Sınıf 0: 130581 örnek\n",
      "Sınıf 1: 39571 örnek\n"
     ]
    }
   ],
   "source": [
    "import numpy as np\n",
    "\n",
    "unique, counts = np.unique(y_train, return_counts=True)\n",
    "for u, c in zip(unique, counts):\n",
    "    print(f\"Sınıf {u}: {c} örnek\")"
   ]
  },
  {
   "cell_type": "code",
   "execution_count": null,
   "metadata": {},
   "outputs": [],
   "source": []
  }
 ],
 "metadata": {
  "kernelspec": {
   "display_name": "base",
   "language": "python",
   "name": "python3"
  },
  "language_info": {
   "codemirror_mode": {
    "name": "ipython",
    "version": 3
   },
   "file_extension": ".py",
   "mimetype": "text/x-python",
   "name": "python",
   "nbconvert_exporter": "python",
   "pygments_lexer": "ipython3",
   "version": "3.11.11"
  }
 },
 "nbformat": 4,
 "nbformat_minor": 2
}
